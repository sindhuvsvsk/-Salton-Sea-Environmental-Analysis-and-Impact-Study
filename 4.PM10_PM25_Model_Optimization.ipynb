{
  "nbformat": 4,
  "nbformat_minor": 0,
  "metadata": {
    "colab": {
      "name": "4.Hourly_Modeling_PM10_PM25.ipynb",
      "provenance": [],
      "collapsed_sections": []
    },
    "kernelspec": {
      "display_name": "Python 3",
      "language": "python",
      "name": "python3"
    },
    "language_info": {
      "codemirror_mode": {
        "name": "ipython",
        "version": 3
      },
      "file_extension": ".py",
      "mimetype": "text/x-python",
      "name": "python",
      "nbconvert_exporter": "python",
      "pygments_lexer": "ipython3",
      "version": "3.8.3"
    }
  },
  "cells": [
    {
      "cell_type": "markdown",
      "metadata": {
        "id": "mKEmhMnNJN36"
      },
      "source": [
        "### Notebook for Data transformation, preparation and model development for hourly air quality forecasting"
      ]
    },
    {
      "cell_type": "raw",
      "metadata": {
        "id": "ydaOUVkyJN4D"
      },
      "source": [
        "Models Developed are for:\n",
        "CO, PM10, PM25, OZONE\n",
        "\n",
        "Use t=5 previous hours\n",
        "Prediction for t+1 hour"
      ]
    },
    {
      "cell_type": "code",
      "metadata": {
        "colab": {
          "base_uri": "https://localhost:8080/"
        },
        "id": "YO1OBkXAJjTQ",
        "outputId": "2de7f349-6d1b-4327-b130-112a55aef400"
      },
      "source": [
        "pip install scikit-optimize"
      ],
      "execution_count": 2,
      "outputs": [
        {
          "output_type": "stream",
          "name": "stdout",
          "text": [
            "Collecting scikit-optimize\n",
            "  Downloading scikit_optimize-0.9.0-py2.py3-none-any.whl (100 kB)\n",
            "\u001b[?25l\r\u001b[K     |███▎                            | 10 kB 22.9 MB/s eta 0:00:01\r\u001b[K     |██████▌                         | 20 kB 28.2 MB/s eta 0:00:01\r\u001b[K     |█████████▉                      | 30 kB 28.4 MB/s eta 0:00:01\r\u001b[K     |█████████████                   | 40 kB 29.0 MB/s eta 0:00:01\r\u001b[K     |████████████████▍               | 51 kB 30.4 MB/s eta 0:00:01\r\u001b[K     |███████████████████▋            | 61 kB 32.7 MB/s eta 0:00:01\r\u001b[K     |██████████████████████▉         | 71 kB 32.2 MB/s eta 0:00:01\r\u001b[K     |██████████████████████████▏     | 81 kB 33.0 MB/s eta 0:00:01\r\u001b[K     |█████████████████████████████▍  | 92 kB 34.8 MB/s eta 0:00:01\r\u001b[K     |████████████████████████████████| 100 kB 9.4 MB/s \n",
            "\u001b[?25hRequirement already satisfied: scipy>=0.19.1 in /usr/local/lib/python3.7/dist-packages (from scikit-optimize) (1.4.1)\n",
            "Collecting pyaml>=16.9\n",
            "  Downloading pyaml-21.10.1-py2.py3-none-any.whl (24 kB)\n",
            "Requirement already satisfied: numpy>=1.13.3 in /usr/local/lib/python3.7/dist-packages (from scikit-optimize) (1.19.5)\n",
            "Requirement already satisfied: joblib>=0.11 in /usr/local/lib/python3.7/dist-packages (from scikit-optimize) (1.0.1)\n",
            "Requirement already satisfied: scikit-learn>=0.20.0 in /usr/local/lib/python3.7/dist-packages (from scikit-optimize) (0.22.2.post1)\n",
            "Requirement already satisfied: PyYAML in /usr/local/lib/python3.7/dist-packages (from pyaml>=16.9->scikit-optimize) (3.13)\n",
            "Installing collected packages: pyaml, scikit-optimize\n",
            "Successfully installed pyaml-21.10.1 scikit-optimize-0.9.0\n"
          ]
        }
      ]
    },
    {
      "cell_type": "code",
      "metadata": {
        "id": "kaIuyl2aJN4F"
      },
      "source": [
        "import pandas as pd\n",
        "import numpy as np\n",
        "from matplotlib import pyplot as plt\n",
        "import seaborn as sns\n",
        "import math\n",
        "\n",
        "from pandas import concat\n",
        "from sklearn.preprocessing import LabelEncoder\n",
        "from sklearn.preprocessing import MinMaxScaler\n",
        "\n",
        "from sklearn.preprocessing import PowerTransformer\n",
        "from scipy.stats import boxcox \n",
        "from sklearn.preprocessing import RobustScaler\n",
        "\n",
        "from sklearn.preprocessing import StandardScaler\n",
        "\n",
        "from sklearn.ensemble import RandomForestRegressor\n",
        "from sklearn.model_selection import GridSearchCV\n",
        "\n",
        "from sklearn.ensemble import VotingRegressor\n",
        "from sklearn.ensemble import GradientBoostingRegressor\n",
        "from sklearn.ensemble import StackingRegressor\n",
        "from sklearn.linear_model import RidgeCV, LassoCV\n",
        "from sklearn.neighbors import KNeighborsRegressor\n",
        "\n",
        "from scipy.special import inv_boxcox \n",
        "\n",
        "from pickle import dump\n",
        "from pickle import load\n",
        "\n",
        "from sklearn.svm import SVR \n",
        "from skopt import Optimizer\n",
        "from skopt import BayesSearchCV \n",
        "from skopt.space import Real, Categorical, Integer\n",
        "\n",
        "from sklearn.metrics import mean_squared_error\n",
        "from sklearn.metrics import mean_absolute_error\n",
        "from sklearn.metrics import r2_score\n",
        "\n",
        "from keras.models import Sequential\n",
        "from keras.layers import Dense\n",
        "from keras.layers import LSTM\n",
        "from keras.layers import GRU\n",
        "#from keras.optimizers import RMSprop\n",
        "from keras.regularizers import l1, l2\n",
        "\n",
        "from keras.layers import Dense\n",
        "from keras.layers import Flatten\n",
        "from keras.layers.convolutional import Conv1D\n",
        "from keras.layers.convolutional import MaxPooling1D\n",
        "from keras.layers import Dropout\n",
        "\n",
        "from keras.models import Sequential\n",
        "from keras.layers import Activation\n",
        "from keras.layers import Flatten\n",
        "from keras.layers.convolutional import Conv1D\n",
        "from keras.layers.convolutional import MaxPooling1D\n",
        "\n",
        "from tensorflow.keras.callbacks import EarlyStopping, ModelCheckpoint\n",
        "\n",
        "import tensorflow as tf\n",
        "from tensorflow import keras\n",
        "\n",
        "import random\n",
        "\n",
        "from datetime import datetime\n",
        "from sklearn.model_selection import KFold, cross_val_score\n",
        "\n",
        "keras.backend.clear_session()\n",
        "tf.random.set_seed(42)\n",
        "np.random.seed(42)"
      ],
      "execution_count": 3,
      "outputs": []
    },
    {
      "cell_type": "code",
      "metadata": {
        "colab": {
          "base_uri": "https://localhost:8080/",
          "height": 313
        },
        "id": "kikUa2fZJN4K",
        "outputId": "689d6837-6894-42a1-fe6c-55dbd2a0ac46"
      },
      "source": [
        "df=pd.read_csv('Hourly_Preprocessed_Dataset.csv',index_col=0)\n",
        "df.head()"
      ],
      "execution_count": 4,
      "outputs": [
        {
          "output_type": "execute_result",
          "data": {
            "text/html": [
              "<div>\n",
              "<style scoped>\n",
              "    .dataframe tbody tr th:only-of-type {\n",
              "        vertical-align: middle;\n",
              "    }\n",
              "\n",
              "    .dataframe tbody tr th {\n",
              "        vertical-align: top;\n",
              "    }\n",
              "\n",
              "    .dataframe thead th {\n",
              "        text-align: right;\n",
              "    }\n",
              "</style>\n",
              "<table border=\"1\" class=\"dataframe\">\n",
              "  <thead>\n",
              "    <tr style=\"text-align: right;\">\n",
              "      <th></th>\n",
              "      <th>CO</th>\n",
              "      <th>NO2</th>\n",
              "      <th>OZONE</th>\n",
              "      <th>PM10</th>\n",
              "      <th>PM25</th>\n",
              "      <th>SO2</th>\n",
              "      <th>Barometric_Pressure</th>\n",
              "      <th>Dewpoint</th>\n",
              "      <th>Relative_Humidity</th>\n",
              "      <th>Temperature</th>\n",
              "      <th>Wind_Speed</th>\n",
              "      <th>season</th>\n",
              "      <th>weekend_flag</th>\n",
              "      <th>peak_hours</th>\n",
              "    </tr>\n",
              "  </thead>\n",
              "  <tbody>\n",
              "    <tr>\n",
              "      <th>2015-01-02 10:00:00</th>\n",
              "      <td>-0.482597</td>\n",
              "      <td>-0.599879</td>\n",
              "      <td>-0.182026</td>\n",
              "      <td>-0.063857</td>\n",
              "      <td>-0.093282</td>\n",
              "      <td>0.005219</td>\n",
              "      <td>1.331716</td>\n",
              "      <td>-0.390781</td>\n",
              "      <td>-0.359205</td>\n",
              "      <td>-1.371250</td>\n",
              "      <td>0.224861</td>\n",
              "      <td>3</td>\n",
              "      <td>1</td>\n",
              "      <td>0</td>\n",
              "    </tr>\n",
              "    <tr>\n",
              "      <th>2015-01-02 11:00:00</th>\n",
              "      <td>-0.496857</td>\n",
              "      <td>-0.717961</td>\n",
              "      <td>0.095772</td>\n",
              "      <td>-0.155189</td>\n",
              "      <td>-0.093282</td>\n",
              "      <td>-0.124040</td>\n",
              "      <td>1.143620</td>\n",
              "      <td>-0.524329</td>\n",
              "      <td>-0.536764</td>\n",
              "      <td>-1.154079</td>\n",
              "      <td>-0.152468</td>\n",
              "      <td>3</td>\n",
              "      <td>1</td>\n",
              "      <td>0</td>\n",
              "    </tr>\n",
              "    <tr>\n",
              "      <th>2015-01-02 12:00:00</th>\n",
              "      <td>-0.513493</td>\n",
              "      <td>-0.763377</td>\n",
              "      <td>0.289706</td>\n",
              "      <td>-0.312401</td>\n",
              "      <td>0.166494</td>\n",
              "      <td>-0.253299</td>\n",
              "      <td>0.977468</td>\n",
              "      <td>-1.337763</td>\n",
              "      <td>-0.762775</td>\n",
              "      <td>-0.895541</td>\n",
              "      <td>-0.392585</td>\n",
              "      <td>3</td>\n",
              "      <td>1</td>\n",
              "      <td>0</td>\n",
              "    </tr>\n",
              "    <tr>\n",
              "      <th>2015-01-02 13:00:00</th>\n",
              "      <td>-0.454077</td>\n",
              "      <td>-0.708877</td>\n",
              "      <td>0.289706</td>\n",
              "      <td>-0.358815</td>\n",
              "      <td>-0.014666</td>\n",
              "      <td>-0.382557</td>\n",
              "      <td>0.914769</td>\n",
              "      <td>-1.532016</td>\n",
              "      <td>-0.777822</td>\n",
              "      <td>-0.802467</td>\n",
              "      <td>-0.907124</td>\n",
              "      <td>3</td>\n",
              "      <td>1</td>\n",
              "      <td>0</td>\n",
              "    </tr>\n",
              "    <tr>\n",
              "      <th>2015-01-02 14:00:00</th>\n",
              "      <td>-0.437441</td>\n",
              "      <td>-0.708877</td>\n",
              "      <td>0.394536</td>\n",
              "      <td>-0.351329</td>\n",
              "      <td>0.039597</td>\n",
              "      <td>-0.382557</td>\n",
              "      <td>0.852070</td>\n",
              "      <td>-1.871958</td>\n",
              "      <td>-0.782035</td>\n",
              "      <td>-0.750760</td>\n",
              "      <td>-0.598401</td>\n",
              "      <td>3</td>\n",
              "      <td>1</td>\n",
              "      <td>0</td>\n",
              "    </tr>\n",
              "  </tbody>\n",
              "</table>\n",
              "</div>"
            ],
            "text/plain": [
              "                           CO       NO2  ...  weekend_flag  peak_hours\n",
              "2015-01-02 10:00:00 -0.482597 -0.599879  ...             1           0\n",
              "2015-01-02 11:00:00 -0.496857 -0.717961  ...             1           0\n",
              "2015-01-02 12:00:00 -0.513493 -0.763377  ...             1           0\n",
              "2015-01-02 13:00:00 -0.454077 -0.708877  ...             1           0\n",
              "2015-01-02 14:00:00 -0.437441 -0.708877  ...             1           0\n",
              "\n",
              "[5 rows x 14 columns]"
            ]
          },
          "metadata": {},
          "execution_count": 4
        }
      ]
    },
    {
      "cell_type": "code",
      "metadata": {
        "id": "HbyxRfbeJN4f"
      },
      "source": [
        "df.index= pd.to_datetime(df.index)"
      ],
      "execution_count": 5,
      "outputs": []
    },
    {
      "cell_type": "code",
      "metadata": {
        "colab": {
          "base_uri": "https://localhost:8080/"
        },
        "id": "Ky8kYUeLJN4g",
        "outputId": "d0ed6233-b233-428d-c4cf-ab8f2647995f"
      },
      "source": [
        "df.info()"
      ],
      "execution_count": 6,
      "outputs": [
        {
          "output_type": "stream",
          "name": "stdout",
          "text": [
            "<class 'pandas.core.frame.DataFrame'>\n",
            "DatetimeIndex: 52574 entries, 2015-01-02 10:00:00 to 2020-12-31 23:00:00\n",
            "Data columns (total 14 columns):\n",
            " #   Column               Non-Null Count  Dtype  \n",
            "---  ------               --------------  -----  \n",
            " 0   CO                   52574 non-null  float64\n",
            " 1   NO2                  52574 non-null  float64\n",
            " 2   OZONE                52574 non-null  float64\n",
            " 3   PM10                 52574 non-null  float64\n",
            " 4   PM25                 52574 non-null  float64\n",
            " 5   SO2                  52574 non-null  float64\n",
            " 6   Barometric_Pressure  52574 non-null  float64\n",
            " 7   Dewpoint             52574 non-null  float64\n",
            " 8   Relative_Humidity    52574 non-null  float64\n",
            " 9   Temperature          52574 non-null  float64\n",
            " 10  Wind_Speed           52574 non-null  float64\n",
            " 11  season               52574 non-null  int64  \n",
            " 12  weekend_flag         52574 non-null  int64  \n",
            " 13  peak_hours           52574 non-null  int64  \n",
            "dtypes: float64(11), int64(3)\n",
            "memory usage: 6.0 MB\n"
          ]
        }
      ]
    },
    {
      "cell_type": "code",
      "metadata": {
        "colab": {
          "base_uri": "https://localhost:8080/"
        },
        "id": "ExOXiG3lJN4i",
        "outputId": "7ccb996d-772b-4b16-d328-ffa75cc3a952"
      },
      "source": [
        "df.index.dtype"
      ],
      "execution_count": 7,
      "outputs": [
        {
          "output_type": "execute_result",
          "data": {
            "text/plain": [
              "dtype('<M8[ns]')"
            ]
          },
          "metadata": {},
          "execution_count": 7
        }
      ]
    },
    {
      "cell_type": "code",
      "metadata": {
        "id": "1_oqBrQmJN4k"
      },
      "source": [
        "#make sure dataset is sorted on date and hour\n",
        "df.sort_index(inplace=True)"
      ],
      "execution_count": 8,
      "outputs": []
    },
    {
      "cell_type": "code",
      "metadata": {
        "colab": {
          "base_uri": "https://localhost:8080/"
        },
        "id": "fsPEX0e9JN4l",
        "outputId": "9816fb16-abea-445f-b404-f70f1e931504"
      },
      "source": [
        "# load the scaler\n",
        "\n",
        "scaler=load(open('scaler.pkl', 'rb'))"
      ],
      "execution_count": 9,
      "outputs": [
        {
          "output_type": "stream",
          "name": "stderr",
          "text": [
            "/usr/local/lib/python3.7/dist-packages/sklearn/base.py:318: UserWarning: Trying to unpickle estimator StandardScaler from version 0.24.1 when using version 0.22.2.post1. This might lead to breaking code or invalid results. Use at your own risk.\n",
            "  UserWarning)\n"
          ]
        }
      ]
    },
    {
      "cell_type": "code",
      "metadata": {
        "id": "D18lzy7nJN4n"
      },
      "source": [
        "#next add lag features by converting time series to supervised.\n",
        "#function to ad lead and lag features.\n",
        "# convert series to supervised learning\n",
        "#Reference : https://machinelearningmastery.com/multivariate-time-series-forecasting-lstms-keras/\n",
        "def series_to_supervised(data, n_in=1, n_out=1, dropnan=True):\n",
        "    n_vars = 1 if type(data) is list else data.shape[1]\n",
        "    df = pd.DataFrame(data)\n",
        "    cols, names = list(), list()\n",
        "    # input sequence (t-n, ... t-1)\n",
        "    for i in range(n_in, 0, -1):\n",
        "        cols.append(df.shift(i))\n",
        "        names += [('var%d(t-%d)' % (j+1, i)) for j in range(n_vars)]\n",
        "    # forecast sequence (t, t+1, ... t+n)\n",
        "    for i in range(0, n_out):\n",
        "        cols.append(df.shift(-i))\n",
        "        if i == 0:\n",
        "            names += [('var%d(t)' % (j+1)) for j in range(n_vars)]\n",
        "        else:\n",
        "            names += [('var%d(t+%d)' % (j+1, i)) for j in range(n_vars)]\n",
        "    # put it all together\n",
        "    agg = concat(cols, axis=1)\n",
        "    agg.columns = names\n",
        "    # drop rows with NaN values\n",
        "    if dropnan:\n",
        "        agg.dropna(inplace=True)\n",
        "    return agg"
      ],
      "execution_count": 10,
      "outputs": []
    },
    {
      "cell_type": "code",
      "metadata": {
        "id": "J28NLuq9JN4p"
      },
      "source": [
        "# split data into train ,validation and test sets\n",
        "def split_data(data,reshape='no',n_hours = 1, n_features = 10):\n",
        "    values = data.values\n",
        "    #use data for 2015-2017 for training, 2018-2019 for validation and 2020 for testing\n",
        "    #train = values[:26304, :]\n",
        "    train = values[:26265, :]\n",
        "    #valid = values[26304:43824, :]\n",
        "    valid = values[26265:43785, :]\n",
        "    #test = values[43824:, :]\n",
        "    test = values[43785:, :]\n",
        "    # split into input and outputs\n",
        "    n_obs = n_hours * n_features\n",
        "    train_X, train_y = train[:, :n_obs], train[:, -n_features]\n",
        "    valid_X,valid_y = valid[:, :n_obs], valid[:, -n_features]\n",
        "    test_X, test_y = test[:, :n_obs], test[:, -n_features]\n",
        "    if reshape=='yes':\n",
        "        train_X = train_X.reshape((train_X.shape[0], n_hours, n_features))\n",
        "        valid_X = valid_X.reshape((valid_X.shape[0], n_hours, n_features))\n",
        "        test_X  = test_X.reshape((test_X.shape[0], n_hours, n_features))\n",
        "    return train_X, train_y, valid_X, valid_y, test_X, test_y"
      ],
      "execution_count": 11,
      "outputs": []
    },
    {
      "cell_type": "code",
      "metadata": {
        "id": "DRHgLSLeJN4s"
      },
      "source": [
        "#Basic structure for LSTM model\n",
        "def lstm_model(train_data):\n",
        "    model = Sequential()\n",
        "    model.add(LSTM(50, input_shape=(train_data.shape[1], train_data.shape[2])))\n",
        "    model.add(Dense(1))\n",
        "    model.compile(loss='mse', optimizer='adam')\n",
        "    model.summary()\n",
        "    return model"
      ],
      "execution_count": 12,
      "outputs": []
    },
    {
      "cell_type": "code",
      "metadata": {
        "id": "5kvtXJZ6JN4t"
      },
      "source": [
        "##Giving error - error when time step is 1\n",
        "def CNN_model(train_data):\n",
        "    model = Sequential()\n",
        "    model.add(Conv1D(filters=64, kernel_size=2, activation='relu', input_shape=(train_data.shape[1], train_data.shape[2])))\n",
        "    model.add(MaxPooling1D(pool_size=2))\n",
        "    model.add(Flatten())\n",
        "    model.add(Dense(50, activation='relu'))\n",
        "    model.add(Dense(1))\n",
        "    model.compile(optimizer='adam', loss='mse')\n",
        "    return model"
      ],
      "execution_count": 13,
      "outputs": []
    },
    {
      "cell_type": "code",
      "metadata": {
        "id": "i5iAGmTxJN4v"
      },
      "source": [
        "#Reference https://www.nature.com/articles/s41598-020-60102-6#Sec2\n",
        "def DBN(train_data,g):\n",
        "    fdp=0.19+0.0025 * g\n",
        "    model = Sequential()\n",
        "    model.add(Conv1D(filters=24, kernel_size=5, activation='relu', input_shape=(train_data.shape[1], train_data.shape[2])))\n",
        "    #model.add(MaxPooling1D(pool_size=4))\n",
        "    model.add(Dropout(0.2))\n",
        "    model.add(LSTM(24))\n",
        "    model.add(Dropout(fdp))\n",
        "    model.add(Dense(1))\n",
        "    model.compile(optimizer='adam', loss='mse')\n",
        "    return model   "
      ],
      "execution_count": 14,
      "outputs": []
    },
    {
      "cell_type": "code",
      "metadata": {
        "id": "E6Fh68j4JN4w"
      },
      "source": [
        "#function to calculate different error metrics for models\n",
        "#references https://machinelearningmastery.com/time-series-forecasting-performance-measures-with-python/\n",
        "def model_evaluation(y_actual,y_predicted):\n",
        "    #rmse\n",
        "    rmse = math.sqrt(mean_squared_error(y_actual, y_predicted))\n",
        "    #mae\n",
        "    mae=mean_absolute_error(y_actual, y_predicted)\n",
        "    #mape\n",
        "    mape = mean_absolute_error(y_actual, y_predicted)*100\n",
        "    #r2\n",
        "    r2=r2_score(y_actual, y_predicted)\n",
        "    return rmse, mae, mape,r2"
      ],
      "execution_count": 15,
      "outputs": []
    },
    {
      "cell_type": "markdown",
      "metadata": {
        "id": "aIXMEpt0JN4x"
      },
      "source": [
        "## PM10 Forecasting"
      ]
    },
    {
      "cell_type": "markdown",
      "metadata": {
        "id": "q3-4Xue2JN5a"
      },
      "source": [
        "## PM10 Machine Learning Models"
      ]
    },
    {
      "cell_type": "code",
      "metadata": {
        "colab": {
          "base_uri": "https://localhost:8080/",
          "height": 206
        },
        "id": "6fOR-YlBJN5a",
        "outputId": "7b95a0c6-c0bb-4b26-d5f1-52de3fea9987"
      },
      "source": [
        "df_PM10=df.iloc[:,[3,0,1,2,4,5,10]] # continue with 7 features for all models\n",
        "#df_PM10=df.iloc[:,[3,0,1,4,6,10]]#0.493 with rf\n",
        "df_PM10.head()"
      ],
      "execution_count": 86,
      "outputs": [
        {
          "output_type": "execute_result",
          "data": {
            "text/html": [
              "<div>\n",
              "<style scoped>\n",
              "    .dataframe tbody tr th:only-of-type {\n",
              "        vertical-align: middle;\n",
              "    }\n",
              "\n",
              "    .dataframe tbody tr th {\n",
              "        vertical-align: top;\n",
              "    }\n",
              "\n",
              "    .dataframe thead th {\n",
              "        text-align: right;\n",
              "    }\n",
              "</style>\n",
              "<table border=\"1\" class=\"dataframe\">\n",
              "  <thead>\n",
              "    <tr style=\"text-align: right;\">\n",
              "      <th></th>\n",
              "      <th>PM10</th>\n",
              "      <th>CO</th>\n",
              "      <th>NO2</th>\n",
              "      <th>OZONE</th>\n",
              "      <th>PM25</th>\n",
              "      <th>SO2</th>\n",
              "      <th>Wind_Speed</th>\n",
              "    </tr>\n",
              "  </thead>\n",
              "  <tbody>\n",
              "    <tr>\n",
              "      <th>2015-01-02 10:00:00</th>\n",
              "      <td>-0.063857</td>\n",
              "      <td>-0.482597</td>\n",
              "      <td>-0.599879</td>\n",
              "      <td>-0.182026</td>\n",
              "      <td>-0.093282</td>\n",
              "      <td>0.005219</td>\n",
              "      <td>0.224861</td>\n",
              "    </tr>\n",
              "    <tr>\n",
              "      <th>2015-01-02 11:00:00</th>\n",
              "      <td>-0.155189</td>\n",
              "      <td>-0.496857</td>\n",
              "      <td>-0.717961</td>\n",
              "      <td>0.095772</td>\n",
              "      <td>-0.093282</td>\n",
              "      <td>-0.124040</td>\n",
              "      <td>-0.152468</td>\n",
              "    </tr>\n",
              "    <tr>\n",
              "      <th>2015-01-02 12:00:00</th>\n",
              "      <td>-0.312401</td>\n",
              "      <td>-0.513493</td>\n",
              "      <td>-0.763377</td>\n",
              "      <td>0.289706</td>\n",
              "      <td>0.166494</td>\n",
              "      <td>-0.253299</td>\n",
              "      <td>-0.392585</td>\n",
              "    </tr>\n",
              "    <tr>\n",
              "      <th>2015-01-02 13:00:00</th>\n",
              "      <td>-0.358815</td>\n",
              "      <td>-0.454077</td>\n",
              "      <td>-0.708877</td>\n",
              "      <td>0.289706</td>\n",
              "      <td>-0.014666</td>\n",
              "      <td>-0.382557</td>\n",
              "      <td>-0.907124</td>\n",
              "    </tr>\n",
              "    <tr>\n",
              "      <th>2015-01-02 14:00:00</th>\n",
              "      <td>-0.351329</td>\n",
              "      <td>-0.437441</td>\n",
              "      <td>-0.708877</td>\n",
              "      <td>0.394536</td>\n",
              "      <td>0.039597</td>\n",
              "      <td>-0.382557</td>\n",
              "      <td>-0.598401</td>\n",
              "    </tr>\n",
              "  </tbody>\n",
              "</table>\n",
              "</div>"
            ],
            "text/plain": [
              "                         PM10        CO  ...       SO2  Wind_Speed\n",
              "2015-01-02 10:00:00 -0.063857 -0.482597  ...  0.005219    0.224861\n",
              "2015-01-02 11:00:00 -0.155189 -0.496857  ... -0.124040   -0.152468\n",
              "2015-01-02 12:00:00 -0.312401 -0.513493  ... -0.253299   -0.392585\n",
              "2015-01-02 13:00:00 -0.358815 -0.454077  ... -0.382557   -0.907124\n",
              "2015-01-02 14:00:00 -0.351329 -0.437441  ... -0.382557   -0.598401\n",
              "\n",
              "[5 rows x 7 columns]"
            ]
          },
          "metadata": {},
          "execution_count": 86
        }
      ]
    },
    {
      "cell_type": "code",
      "metadata": {
        "id": "HeY2XEntJN5b"
      },
      "source": [
        "# specify the number of lag hours\n",
        "n_hours = 5\n",
        "n_features =7 #number of features in dataframe to be used"
      ],
      "execution_count": 87,
      "outputs": []
    },
    {
      "cell_type": "code",
      "metadata": {
        "colab": {
          "base_uri": "https://localhost:8080/"
        },
        "id": "iBIhecLIJN5c",
        "outputId": "a6cd44fe-d81f-4d6f-adf5-9c23a193d6d6"
      },
      "source": [
        "# frame as supervised learning\n",
        "scaled_PM10=df_PM10.values\n",
        "reframed_PM10 = series_to_supervised(scaled_PM10, n_hours, 1)\n",
        "print(reframed_PM10.shape)"
      ],
      "execution_count": 88,
      "outputs": [
        {
          "output_type": "stream",
          "name": "stdout",
          "text": [
            "(52569, 42)\n"
          ]
        }
      ]
    },
    {
      "cell_type": "code",
      "metadata": {
        "id": "jLeW4bBuJN5e"
      },
      "source": [
        "#Try this\n",
        "def split_ml(data,n_hours = 1, n_features = 10):\n",
        "    values = data.values\n",
        "    #use data for 2015-2017 for training, 2018-2019 for validation and 2020 for testing\n",
        "\n",
        "    train = values[:43785, :]\n",
        "\n",
        "    test = values[43785:, :]\n",
        "    # split into input and outputs\n",
        "    n_obs = n_hours * n_features\n",
        "    train_X, train_y = train[:, :n_obs], train[:, -n_features]\n",
        "\n",
        "    test_X, test_y = test[:, :n_obs], test[:, -n_features]\n",
        "    \n",
        "    return train_X, train_y, test_X, test_y"
      ],
      "execution_count": 89,
      "outputs": []
    },
    {
      "cell_type": "code",
      "metadata": {
        "colab": {
          "base_uri": "https://localhost:8080/"
        },
        "id": "wL6c2jsCJN5f",
        "outputId": "a49d9d6d-6f02-437d-926d-b6bce01cde39"
      },
      "source": [
        "#PM10:\n",
        "PM10_train_X, PM10_train_y, PM10_test_X, PM10_test_y=split_ml(reframed_PM10,n_hours=n_hours,n_features=n_features) #for lstm 3d data is required\n",
        "\n",
        "print(\"training data CO:\",PM10_train_X.shape, len(PM10_train_X), PM10_train_y.shape)\n",
        "print(\"testing data CO:\",PM10_test_X.shape, len(PM10_test_X), PM10_test_y.shape)"
      ],
      "execution_count": 91,
      "outputs": [
        {
          "output_type": "stream",
          "name": "stdout",
          "text": [
            "training data CO: (43785, 35) 43785 (43785,)\n",
            "testing data CO: (8784, 35) 8784 (8784,)\n"
          ]
        }
      ]
    },
    {
      "cell_type": "code",
      "metadata": {
        "colab": {
          "base_uri": "https://localhost:8080/"
        },
        "id": "AZMr49SXCq4Y",
        "outputId": "3b8340aa-5cdc-4036-dbff-5760c286d2fc"
      },
      "source": [
        "#RF Bayes optimization\n",
        "\n",
        "# Define the hyperparameter configuration space\n",
        "rf_params = {\n",
        "    'n_estimators': Integer(10,100),\n",
        "    \"max_features\":Integer(1,13),\n",
        "    'max_depth': Integer(5,50),\n",
        "    \"min_samples_split\":Integer(2,11),\n",
        "    \"min_samples_leaf\":Integer(1,11),\n",
        "    \"criterion\":['mse','mae']\n",
        "}\n",
        "clf = RandomForestRegressor(random_state=42)\n",
        "\n",
        "Bayes = BayesSearchCV(clf, rf_params,cv=3,n_iter=20,verbose=2, scoring='neg_mean_squared_error') \n",
        "#number of iterations is set to 20, you can increase this number if time permits\n",
        "Bayes.fit(PM10_train_X, PM10_train_y)"
      ],
      "execution_count": null,
      "outputs": [
        {
          "name": "stdout",
          "output_type": "stream",
          "text": [
            "Fitting 3 folds for each of 1 candidates, totalling 3 fits\n",
            "[CV] criterion=mae, max_depth=38, max_features=12, min_samples_leaf=4, min_samples_split=8, n_estimators=47 \n"
          ]
        },
        {
          "name": "stderr",
          "output_type": "stream",
          "text": [
            "[Parallel(n_jobs=1)]: Using backend SequentialBackend with 1 concurrent workers.\n"
          ]
        },
        {
          "name": "stdout",
          "output_type": "stream",
          "text": [
            "[CV]  criterion=mae, max_depth=38, max_features=12, min_samples_leaf=4, min_samples_split=8, n_estimators=47, total=11.2min\n",
            "[CV] criterion=mae, max_depth=38, max_features=12, min_samples_leaf=4, min_samples_split=8, n_estimators=47 \n"
          ]
        },
        {
          "name": "stderr",
          "output_type": "stream",
          "text": [
            "[Parallel(n_jobs=1)]: Done   1 out of   1 | elapsed: 11.2min remaining:    0.0s\n"
          ]
        },
        {
          "name": "stdout",
          "output_type": "stream",
          "text": [
            "[CV]  criterion=mae, max_depth=38, max_features=12, min_samples_leaf=4, min_samples_split=8, n_estimators=47, total=10.9min\n",
            "[CV] criterion=mae, max_depth=38, max_features=12, min_samples_leaf=4, min_samples_split=8, n_estimators=47 \n",
            "[CV]  criterion=mae, max_depth=38, max_features=12, min_samples_leaf=4, min_samples_split=8, n_estimators=47, total=10.9min\n",
            "Fitting 3 folds for each of 1 candidates, totalling 3 fits\n",
            "[CV] criterion=mse, max_depth=45, max_features=5, min_samples_leaf=11, min_samples_split=10, n_estimators=16 \n"
          ]
        },
        {
          "name": "stderr",
          "output_type": "stream",
          "text": [
            "[Parallel(n_jobs=1)]: Done   3 out of   3 | elapsed: 33.1min finished\n",
            "[Parallel(n_jobs=1)]: Using backend SequentialBackend with 1 concurrent workers.\n"
          ]
        },
        {
          "name": "stdout",
          "output_type": "stream",
          "text": [
            "[CV]  criterion=mse, max_depth=45, max_features=5, min_samples_leaf=11, min_samples_split=10, n_estimators=16, total=   1.8s\n",
            "[CV] criterion=mse, max_depth=45, max_features=5, min_samples_leaf=11, min_samples_split=10, n_estimators=16 \n"
          ]
        },
        {
          "name": "stderr",
          "output_type": "stream",
          "text": [
            "[Parallel(n_jobs=1)]: Done   1 out of   1 | elapsed:    1.8s remaining:    0.0s\n"
          ]
        },
        {
          "name": "stdout",
          "output_type": "stream",
          "text": [
            "[CV]  criterion=mse, max_depth=45, max_features=5, min_samples_leaf=11, min_samples_split=10, n_estimators=16, total=   1.8s\n",
            "[CV] criterion=mse, max_depth=45, max_features=5, min_samples_leaf=11, min_samples_split=10, n_estimators=16 \n",
            "[CV]  criterion=mse, max_depth=45, max_features=5, min_samples_leaf=11, min_samples_split=10, n_estimators=16, total=   1.8s\n",
            "Fitting 3 folds for each of 1 candidates, totalling 3 fits\n",
            "[CV] criterion=mae, max_depth=46, max_features=2, min_samples_leaf=5, min_samples_split=4, n_estimators=51 \n"
          ]
        },
        {
          "name": "stderr",
          "output_type": "stream",
          "text": [
            "[Parallel(n_jobs=1)]: Done   3 out of   3 | elapsed:    5.3s finished\n",
            "[Parallel(n_jobs=1)]: Using backend SequentialBackend with 1 concurrent workers.\n"
          ]
        },
        {
          "name": "stdout",
          "output_type": "stream",
          "text": [
            "[CV]  criterion=mae, max_depth=46, max_features=2, min_samples_leaf=5, min_samples_split=4, n_estimators=51, total= 2.9min\n",
            "[CV] criterion=mae, max_depth=46, max_features=2, min_samples_leaf=5, min_samples_split=4, n_estimators=51 \n"
          ]
        },
        {
          "name": "stderr",
          "output_type": "stream",
          "text": [
            "[Parallel(n_jobs=1)]: Done   1 out of   1 | elapsed:  2.9min remaining:    0.0s\n"
          ]
        },
        {
          "name": "stdout",
          "output_type": "stream",
          "text": [
            "[CV]  criterion=mae, max_depth=46, max_features=2, min_samples_leaf=5, min_samples_split=4, n_estimators=51, total= 2.8min\n",
            "[CV] criterion=mae, max_depth=46, max_features=2, min_samples_leaf=5, min_samples_split=4, n_estimators=51 \n",
            "[CV]  criterion=mae, max_depth=46, max_features=2, min_samples_leaf=5, min_samples_split=4, n_estimators=51, total= 2.8min\n",
            "Fitting 3 folds for each of 1 candidates, totalling 3 fits\n",
            "[CV] criterion=mse, max_depth=13, max_features=8, min_samples_leaf=9, min_samples_split=7, n_estimators=19 \n"
          ]
        },
        {
          "name": "stderr",
          "output_type": "stream",
          "text": [
            "[Parallel(n_jobs=1)]: Done   3 out of   3 | elapsed:  8.5min finished\n",
            "[Parallel(n_jobs=1)]: Using backend SequentialBackend with 1 concurrent workers.\n"
          ]
        },
        {
          "name": "stdout",
          "output_type": "stream",
          "text": [
            "[CV]  criterion=mse, max_depth=13, max_features=8, min_samples_leaf=9, min_samples_split=7, n_estimators=19, total=   2.7s\n",
            "[CV] criterion=mse, max_depth=13, max_features=8, min_samples_leaf=9, min_samples_split=7, n_estimators=19 \n"
          ]
        },
        {
          "name": "stderr",
          "output_type": "stream",
          "text": [
            "[Parallel(n_jobs=1)]: Done   1 out of   1 | elapsed:    2.7s remaining:    0.0s\n"
          ]
        },
        {
          "name": "stdout",
          "output_type": "stream",
          "text": [
            "[CV]  criterion=mse, max_depth=13, max_features=8, min_samples_leaf=9, min_samples_split=7, n_estimators=19, total=   2.7s\n",
            "[CV] criterion=mse, max_depth=13, max_features=8, min_samples_leaf=9, min_samples_split=7, n_estimators=19 \n",
            "[CV]  criterion=mse, max_depth=13, max_features=8, min_samples_leaf=9, min_samples_split=7, n_estimators=19, total=   2.7s\n",
            "Fitting 3 folds for each of 1 candidates, totalling 3 fits\n",
            "[CV] criterion=mse, max_depth=25, max_features=7, min_samples_leaf=8, min_samples_split=10, n_estimators=75 \n"
          ]
        },
        {
          "name": "stderr",
          "output_type": "stream",
          "text": [
            "[Parallel(n_jobs=1)]: Done   3 out of   3 | elapsed:    8.2s finished\n",
            "[Parallel(n_jobs=1)]: Using backend SequentialBackend with 1 concurrent workers.\n"
          ]
        },
        {
          "name": "stdout",
          "output_type": "stream",
          "text": [
            "[CV]  criterion=mse, max_depth=25, max_features=7, min_samples_leaf=8, min_samples_split=10, n_estimators=75, total=  11.4s\n",
            "[CV] criterion=mse, max_depth=25, max_features=7, min_samples_leaf=8, min_samples_split=10, n_estimators=75 \n"
          ]
        },
        {
          "name": "stderr",
          "output_type": "stream",
          "text": [
            "[Parallel(n_jobs=1)]: Done   1 out of   1 | elapsed:   11.4s remaining:    0.0s\n"
          ]
        },
        {
          "name": "stdout",
          "output_type": "stream",
          "text": [
            "[CV]  criterion=mse, max_depth=25, max_features=7, min_samples_leaf=8, min_samples_split=10, n_estimators=75, total=  11.3s\n",
            "[CV] criterion=mse, max_depth=25, max_features=7, min_samples_leaf=8, min_samples_split=10, n_estimators=75 \n",
            "[CV]  criterion=mse, max_depth=25, max_features=7, min_samples_leaf=8, min_samples_split=10, n_estimators=75, total=  11.6s\n",
            "Fitting 3 folds for each of 1 candidates, totalling 3 fits\n",
            "[CV] criterion=mse, max_depth=47, max_features=3, min_samples_leaf=3, min_samples_split=9, n_estimators=44 \n"
          ]
        },
        {
          "name": "stderr",
          "output_type": "stream",
          "text": [
            "[Parallel(n_jobs=1)]: Done   3 out of   3 | elapsed:   34.3s finished\n",
            "[Parallel(n_jobs=1)]: Using backend SequentialBackend with 1 concurrent workers.\n"
          ]
        },
        {
          "name": "stdout",
          "output_type": "stream",
          "text": [
            "[CV]  criterion=mse, max_depth=47, max_features=3, min_samples_leaf=3, min_samples_split=9, n_estimators=44, total=   3.7s\n",
            "[CV] criterion=mse, max_depth=47, max_features=3, min_samples_leaf=3, min_samples_split=9, n_estimators=44 \n"
          ]
        },
        {
          "name": "stderr",
          "output_type": "stream",
          "text": [
            "[Parallel(n_jobs=1)]: Done   1 out of   1 | elapsed:    3.7s remaining:    0.0s\n"
          ]
        },
        {
          "name": "stdout",
          "output_type": "stream",
          "text": [
            "[CV]  criterion=mse, max_depth=47, max_features=3, min_samples_leaf=3, min_samples_split=9, n_estimators=44, total=   3.7s\n",
            "[CV] criterion=mse, max_depth=47, max_features=3, min_samples_leaf=3, min_samples_split=9, n_estimators=44 \n",
            "[CV]  criterion=mse, max_depth=47, max_features=3, min_samples_leaf=3, min_samples_split=9, n_estimators=44, total=   3.7s\n",
            "Fitting 3 folds for each of 1 candidates, totalling 3 fits\n",
            "[CV] criterion=mse, max_depth=40, max_features=5, min_samples_leaf=10, min_samples_split=7, n_estimators=64 \n"
          ]
        },
        {
          "name": "stderr",
          "output_type": "stream",
          "text": [
            "[Parallel(n_jobs=1)]: Done   3 out of   3 | elapsed:   11.1s finished\n",
            "[Parallel(n_jobs=1)]: Using backend SequentialBackend with 1 concurrent workers.\n"
          ]
        },
        {
          "name": "stdout",
          "output_type": "stream",
          "text": [
            "[CV]  criterion=mse, max_depth=40, max_features=5, min_samples_leaf=10, min_samples_split=7, n_estimators=64, total=   7.0s\n",
            "[CV] criterion=mse, max_depth=40, max_features=5, min_samples_leaf=10, min_samples_split=7, n_estimators=64 \n"
          ]
        },
        {
          "name": "stderr",
          "output_type": "stream",
          "text": [
            "[Parallel(n_jobs=1)]: Done   1 out of   1 | elapsed:    7.0s remaining:    0.0s\n"
          ]
        },
        {
          "name": "stdout",
          "output_type": "stream",
          "text": [
            "[CV]  criterion=mse, max_depth=40, max_features=5, min_samples_leaf=10, min_samples_split=7, n_estimators=64, total=   6.9s\n",
            "[CV] criterion=mse, max_depth=40, max_features=5, min_samples_leaf=10, min_samples_split=7, n_estimators=64 \n",
            "[CV]  criterion=mse, max_depth=40, max_features=5, min_samples_leaf=10, min_samples_split=7, n_estimators=64, total=   7.1s\n",
            "Fitting 3 folds for each of 1 candidates, totalling 3 fits\n",
            "[CV] criterion=mse, max_depth=46, max_features=7, min_samples_leaf=9, min_samples_split=5, n_estimators=15 \n"
          ]
        },
        {
          "name": "stderr",
          "output_type": "stream",
          "text": [
            "[Parallel(n_jobs=1)]: Done   3 out of   3 | elapsed:   20.9s finished\n",
            "[Parallel(n_jobs=1)]: Using backend SequentialBackend with 1 concurrent workers.\n"
          ]
        },
        {
          "name": "stdout",
          "output_type": "stream",
          "text": [
            "[CV]  criterion=mse, max_depth=46, max_features=7, min_samples_leaf=9, min_samples_split=5, n_estimators=15, total=   2.3s\n",
            "[CV] criterion=mse, max_depth=46, max_features=7, min_samples_leaf=9, min_samples_split=5, n_estimators=15 \n"
          ]
        },
        {
          "name": "stderr",
          "output_type": "stream",
          "text": [
            "[Parallel(n_jobs=1)]: Done   1 out of   1 | elapsed:    2.3s remaining:    0.0s\n"
          ]
        },
        {
          "name": "stdout",
          "output_type": "stream",
          "text": [
            "[CV]  criterion=mse, max_depth=46, max_features=7, min_samples_leaf=9, min_samples_split=5, n_estimators=15, total=   2.2s\n",
            "[CV] criterion=mse, max_depth=46, max_features=7, min_samples_leaf=9, min_samples_split=5, n_estimators=15 \n",
            "[CV]  criterion=mse, max_depth=46, max_features=7, min_samples_leaf=9, min_samples_split=5, n_estimators=15, total=   2.3s\n",
            "Fitting 3 folds for each of 1 candidates, totalling 3 fits\n",
            "[CV] criterion=mse, max_depth=37, max_features=11, min_samples_leaf=5, min_samples_split=5, n_estimators=29 \n"
          ]
        },
        {
          "name": "stderr",
          "output_type": "stream",
          "text": [
            "[Parallel(n_jobs=1)]: Done   3 out of   3 | elapsed:    6.8s finished\n",
            "[Parallel(n_jobs=1)]: Using backend SequentialBackend with 1 concurrent workers.\n"
          ]
        },
        {
          "name": "stdout",
          "output_type": "stream",
          "text": [
            "[CV]  criterion=mse, max_depth=37, max_features=11, min_samples_leaf=5, min_samples_split=5, n_estimators=29, total=   7.3s\n",
            "[CV] criterion=mse, max_depth=37, max_features=11, min_samples_leaf=5, min_samples_split=5, n_estimators=29 \n"
          ]
        },
        {
          "name": "stderr",
          "output_type": "stream",
          "text": [
            "[Parallel(n_jobs=1)]: Done   1 out of   1 | elapsed:    7.3s remaining:    0.0s\n"
          ]
        },
        {
          "name": "stdout",
          "output_type": "stream",
          "text": [
            "[CV]  criterion=mse, max_depth=37, max_features=11, min_samples_leaf=5, min_samples_split=5, n_estimators=29, total=   7.4s\n",
            "[CV] criterion=mse, max_depth=37, max_features=11, min_samples_leaf=5, min_samples_split=5, n_estimators=29 \n",
            "[CV]  criterion=mse, max_depth=37, max_features=11, min_samples_leaf=5, min_samples_split=5, n_estimators=29, total=   7.5s\n"
          ]
        },
        {
          "name": "stderr",
          "output_type": "stream",
          "text": [
            "[Parallel(n_jobs=1)]: Done   3 out of   3 | elapsed:   22.2s finished\n"
          ]
        },
        {
          "name": "stdout",
          "output_type": "stream",
          "text": [
            "Fitting 3 folds for each of 1 candidates, totalling 3 fits\n",
            "[CV] criterion=mae, max_depth=42, max_features=10, min_samples_leaf=4, min_samples_split=7, n_estimators=35 \n"
          ]
        },
        {
          "name": "stderr",
          "output_type": "stream",
          "text": [
            "[Parallel(n_jobs=1)]: Using backend SequentialBackend with 1 concurrent workers.\n"
          ]
        },
        {
          "name": "stdout",
          "output_type": "stream",
          "text": [
            "[CV]  criterion=mae, max_depth=42, max_features=10, min_samples_leaf=4, min_samples_split=7, n_estimators=35, total= 7.2min\n",
            "[CV] criterion=mae, max_depth=42, max_features=10, min_samples_leaf=4, min_samples_split=7, n_estimators=35 \n"
          ]
        },
        {
          "name": "stderr",
          "output_type": "stream",
          "text": [
            "[Parallel(n_jobs=1)]: Done   1 out of   1 | elapsed:  7.2min remaining:    0.0s\n"
          ]
        },
        {
          "name": "stdout",
          "output_type": "stream",
          "text": [
            "[CV]  criterion=mae, max_depth=42, max_features=10, min_samples_leaf=4, min_samples_split=7, n_estimators=35, total= 7.0min\n",
            "[CV] criterion=mae, max_depth=42, max_features=10, min_samples_leaf=4, min_samples_split=7, n_estimators=35 \n",
            "[CV]  criterion=mae, max_depth=42, max_features=10, min_samples_leaf=4, min_samples_split=7, n_estimators=35, total= 6.9min\n"
          ]
        },
        {
          "name": "stderr",
          "output_type": "stream",
          "text": [
            "[Parallel(n_jobs=1)]: Done   3 out of   3 | elapsed: 21.0min finished\n"
          ]
        },
        {
          "name": "stdout",
          "output_type": "stream",
          "text": [
            "Fitting 3 folds for each of 1 candidates, totalling 3 fits\n",
            "[CV] criterion=mse, max_depth=5, max_features=13, min_samples_leaf=11, min_samples_split=2, n_estimators=100 \n"
          ]
        },
        {
          "name": "stderr",
          "output_type": "stream",
          "text": [
            "[Parallel(n_jobs=1)]: Using backend SequentialBackend with 1 concurrent workers.\n"
          ]
        },
        {
          "name": "stdout",
          "output_type": "stream",
          "text": [
            "[CV]  criterion=mse, max_depth=5, max_features=13, min_samples_leaf=11, min_samples_split=2, n_estimators=100, total=   9.2s\n",
            "[CV] criterion=mse, max_depth=5, max_features=13, min_samples_leaf=11, min_samples_split=2, n_estimators=100 \n"
          ]
        },
        {
          "name": "stderr",
          "output_type": "stream",
          "text": [
            "[Parallel(n_jobs=1)]: Done   1 out of   1 | elapsed:    9.2s remaining:    0.0s\n"
          ]
        },
        {
          "name": "stdout",
          "output_type": "stream",
          "text": [
            "[CV]  criterion=mse, max_depth=5, max_features=13, min_samples_leaf=11, min_samples_split=2, n_estimators=100, total=   9.4s\n",
            "[CV] criterion=mse, max_depth=5, max_features=13, min_samples_leaf=11, min_samples_split=2, n_estimators=100 \n",
            "[CV]  criterion=mse, max_depth=5, max_features=13, min_samples_leaf=11, min_samples_split=2, n_estimators=100, total=   9.4s\n"
          ]
        },
        {
          "name": "stderr",
          "output_type": "stream",
          "text": [
            "[Parallel(n_jobs=1)]: Done   3 out of   3 | elapsed:   28.0s finished\n"
          ]
        },
        {
          "name": "stdout",
          "output_type": "stream",
          "text": [
            "Fitting 3 folds for each of 1 candidates, totalling 3 fits\n",
            "[CV] criterion=mae, max_depth=50, max_features=13, min_samples_leaf=11, min_samples_split=2, n_estimators=100 \n"
          ]
        },
        {
          "name": "stderr",
          "output_type": "stream",
          "text": [
            "[Parallel(n_jobs=1)]: Using backend SequentialBackend with 1 concurrent workers.\n"
          ]
        },
        {
          "name": "stdout",
          "output_type": "stream",
          "text": [
            "[CV]  criterion=mae, max_depth=50, max_features=13, min_samples_leaf=11, min_samples_split=2, n_estimators=100, total=25.0min\n",
            "[CV] criterion=mae, max_depth=50, max_features=13, min_samples_leaf=11, min_samples_split=2, n_estimators=100 \n"
          ]
        },
        {
          "name": "stderr",
          "output_type": "stream",
          "text": [
            "[Parallel(n_jobs=1)]: Done   1 out of   1 | elapsed: 25.0min remaining:    0.0s\n"
          ]
        },
        {
          "name": "stdout",
          "output_type": "stream",
          "text": [
            "[CV]  criterion=mae, max_depth=50, max_features=13, min_samples_leaf=11, min_samples_split=2, n_estimators=100, total=24.4min\n",
            "[CV] criterion=mae, max_depth=50, max_features=13, min_samples_leaf=11, min_samples_split=2, n_estimators=100 \n",
            "[CV]  criterion=mae, max_depth=50, max_features=13, min_samples_leaf=11, min_samples_split=2, n_estimators=100, total=24.6min\n"
          ]
        },
        {
          "name": "stderr",
          "output_type": "stream",
          "text": [
            "[Parallel(n_jobs=1)]: Done   3 out of   3 | elapsed: 74.0min finished\n"
          ]
        },
        {
          "name": "stdout",
          "output_type": "stream",
          "text": [
            "Fitting 3 folds for each of 1 candidates, totalling 3 fits\n",
            "[CV] criterion=mse, max_depth=5, max_features=13, min_samples_leaf=11, min_samples_split=11, n_estimators=100 \n"
          ]
        },
        {
          "name": "stderr",
          "output_type": "stream",
          "text": [
            "[Parallel(n_jobs=1)]: Using backend SequentialBackend with 1 concurrent workers.\n"
          ]
        },
        {
          "name": "stdout",
          "output_type": "stream",
          "text": [
            "[CV]  criterion=mse, max_depth=5, max_features=13, min_samples_leaf=11, min_samples_split=11, n_estimators=100, total=   9.3s\n",
            "[CV] criterion=mse, max_depth=5, max_features=13, min_samples_leaf=11, min_samples_split=11, n_estimators=100 \n"
          ]
        },
        {
          "name": "stderr",
          "output_type": "stream",
          "text": [
            "[Parallel(n_jobs=1)]: Done   1 out of   1 | elapsed:    9.3s remaining:    0.0s\n"
          ]
        },
        {
          "name": "stdout",
          "output_type": "stream",
          "text": [
            "[CV]  criterion=mse, max_depth=5, max_features=13, min_samples_leaf=11, min_samples_split=11, n_estimators=100, total=   9.4s\n",
            "[CV] criterion=mse, max_depth=5, max_features=13, min_samples_leaf=11, min_samples_split=11, n_estimators=100 \n",
            "[CV]  criterion=mse, max_depth=5, max_features=13, min_samples_leaf=11, min_samples_split=11, n_estimators=100, total=   9.4s\n"
          ]
        },
        {
          "name": "stderr",
          "output_type": "stream",
          "text": [
            "[Parallel(n_jobs=1)]: Done   3 out of   3 | elapsed:   28.1s finished\n"
          ]
        },
        {
          "name": "stdout",
          "output_type": "stream",
          "text": [
            "Fitting 3 folds for each of 1 candidates, totalling 3 fits\n",
            "[CV] criterion=mse, max_depth=5, max_features=13, min_samples_leaf=1, min_samples_split=11, n_estimators=10 \n"
          ]
        },
        {
          "name": "stderr",
          "output_type": "stream",
          "text": [
            "[Parallel(n_jobs=1)]: Using backend SequentialBackend with 1 concurrent workers.\n"
          ]
        },
        {
          "name": "stdout",
          "output_type": "stream",
          "text": [
            "[CV]  criterion=mse, max_depth=5, max_features=13, min_samples_leaf=1, min_samples_split=11, n_estimators=10, total=   1.0s\n",
            "[CV] criterion=mse, max_depth=5, max_features=13, min_samples_leaf=1, min_samples_split=11, n_estimators=10 \n"
          ]
        },
        {
          "name": "stderr",
          "output_type": "stream",
          "text": [
            "[Parallel(n_jobs=1)]: Done   1 out of   1 | elapsed:    1.0s remaining:    0.0s\n"
          ]
        },
        {
          "name": "stdout",
          "output_type": "stream",
          "text": [
            "[CV]  criterion=mse, max_depth=5, max_features=13, min_samples_leaf=1, min_samples_split=11, n_estimators=10, total=   1.0s\n",
            "[CV] criterion=mse, max_depth=5, max_features=13, min_samples_leaf=1, min_samples_split=11, n_estimators=10 \n",
            "[CV]  criterion=mse, max_depth=5, max_features=13, min_samples_leaf=1, min_samples_split=11, n_estimators=10, total=   1.0s\n"
          ]
        },
        {
          "name": "stderr",
          "output_type": "stream",
          "text": [
            "[Parallel(n_jobs=1)]: Done   3 out of   3 | elapsed:    3.0s finished\n"
          ]
        },
        {
          "name": "stdout",
          "output_type": "stream",
          "text": [
            "Fitting 3 folds for each of 1 candidates, totalling 3 fits\n",
            "[CV] criterion=mse, max_depth=50, max_features=13, min_samples_leaf=7, min_samples_split=2, n_estimators=100 \n"
          ]
        },
        {
          "name": "stderr",
          "output_type": "stream",
          "text": [
            "[Parallel(n_jobs=1)]: Using backend SequentialBackend with 1 concurrent workers.\n"
          ]
        },
        {
          "name": "stdout",
          "output_type": "stream",
          "text": [
            "[CV]  criterion=mse, max_depth=50, max_features=13, min_samples_leaf=7, min_samples_split=2, n_estimators=100, total=  27.9s\n",
            "[CV] criterion=mse, max_depth=50, max_features=13, min_samples_leaf=7, min_samples_split=2, n_estimators=100 \n"
          ]
        },
        {
          "name": "stderr",
          "output_type": "stream",
          "text": [
            "[Parallel(n_jobs=1)]: Done   1 out of   1 | elapsed:   27.9s remaining:    0.0s\n"
          ]
        },
        {
          "name": "stdout",
          "output_type": "stream",
          "text": [
            "[CV]  criterion=mse, max_depth=50, max_features=13, min_samples_leaf=7, min_samples_split=2, n_estimators=100, total=  28.4s\n",
            "[CV] criterion=mse, max_depth=50, max_features=13, min_samples_leaf=7, min_samples_split=2, n_estimators=100 \n",
            "[CV]  criterion=mse, max_depth=50, max_features=13, min_samples_leaf=7, min_samples_split=2, n_estimators=100, total=  28.3s\n"
          ]
        },
        {
          "name": "stderr",
          "output_type": "stream",
          "text": [
            "[Parallel(n_jobs=1)]: Done   3 out of   3 | elapsed:  1.4min finished\n"
          ]
        },
        {
          "name": "stdout",
          "output_type": "stream",
          "text": [
            "Fitting 3 folds for each of 1 candidates, totalling 3 fits\n",
            "[CV] criterion=mae, max_depth=5, max_features=13, min_samples_leaf=7, min_samples_split=2, n_estimators=100 \n"
          ]
        },
        {
          "name": "stderr",
          "output_type": "stream",
          "text": [
            "[Parallel(n_jobs=1)]: Using backend SequentialBackend with 1 concurrent workers.\n"
          ]
        },
        {
          "name": "stdout",
          "output_type": "stream",
          "text": [
            "[CV]  criterion=mae, max_depth=5, max_features=13, min_samples_leaf=7, min_samples_split=2, n_estimators=100, total=21.9min\n",
            "[CV] criterion=mae, max_depth=5, max_features=13, min_samples_leaf=7, min_samples_split=2, n_estimators=100 \n"
          ]
        },
        {
          "name": "stderr",
          "output_type": "stream",
          "text": [
            "[Parallel(n_jobs=1)]: Done   1 out of   1 | elapsed: 21.9min remaining:    0.0s\n"
          ]
        },
        {
          "name": "stdout",
          "output_type": "stream",
          "text": [
            "[CV]  criterion=mae, max_depth=5, max_features=13, min_samples_leaf=7, min_samples_split=2, n_estimators=100, total=21.4min\n",
            "[CV] criterion=mae, max_depth=5, max_features=13, min_samples_leaf=7, min_samples_split=2, n_estimators=100 \n",
            "[CV]  criterion=mae, max_depth=5, max_features=13, min_samples_leaf=7, min_samples_split=2, n_estimators=100, total=21.5min\n"
          ]
        },
        {
          "name": "stderr",
          "output_type": "stream",
          "text": [
            "[Parallel(n_jobs=1)]: Done   3 out of   3 | elapsed: 64.9min finished\n"
          ]
        },
        {
          "name": "stdout",
          "output_type": "stream",
          "text": [
            "Fitting 3 folds for each of 1 candidates, totalling 3 fits\n",
            "[CV] criterion=mse, max_depth=50, max_features=12, min_samples_leaf=11, min_samples_split=2, n_estimators=100 \n"
          ]
        },
        {
          "name": "stderr",
          "output_type": "stream",
          "text": [
            "[Parallel(n_jobs=1)]: Using backend SequentialBackend with 1 concurrent workers.\n"
          ]
        },
        {
          "name": "stdout",
          "output_type": "stream",
          "text": [
            "[CV]  criterion=mse, max_depth=50, max_features=12, min_samples_leaf=11, min_samples_split=2, n_estimators=100, total=  23.4s\n",
            "[CV] criterion=mse, max_depth=50, max_features=12, min_samples_leaf=11, min_samples_split=2, n_estimators=100 \n"
          ]
        },
        {
          "name": "stderr",
          "output_type": "stream",
          "text": [
            "[Parallel(n_jobs=1)]: Done   1 out of   1 | elapsed:   23.4s remaining:    0.0s\n"
          ]
        },
        {
          "name": "stdout",
          "output_type": "stream",
          "text": [
            "[CV]  criterion=mse, max_depth=50, max_features=12, min_samples_leaf=11, min_samples_split=2, n_estimators=100, total=  23.7s\n",
            "[CV] criterion=mse, max_depth=50, max_features=12, min_samples_leaf=11, min_samples_split=2, n_estimators=100 \n",
            "[CV]  criterion=mse, max_depth=50, max_features=12, min_samples_leaf=11, min_samples_split=2, n_estimators=100, total=  24.2s\n"
          ]
        },
        {
          "name": "stderr",
          "output_type": "stream",
          "text": [
            "[Parallel(n_jobs=1)]: Done   3 out of   3 | elapsed:  1.2min finished\n"
          ]
        },
        {
          "name": "stdout",
          "output_type": "stream",
          "text": [
            "Fitting 3 folds for each of 1 candidates, totalling 3 fits\n",
            "[CV] criterion=mae, max_depth=50, max_features=13, min_samples_leaf=11, min_samples_split=2, n_estimators=10 \n"
          ]
        },
        {
          "name": "stderr",
          "output_type": "stream",
          "text": [
            "[Parallel(n_jobs=1)]: Using backend SequentialBackend with 1 concurrent workers.\n"
          ]
        },
        {
          "name": "stdout",
          "output_type": "stream",
          "text": [
            "[CV]  criterion=mae, max_depth=50, max_features=13, min_samples_leaf=11, min_samples_split=2, n_estimators=10, total= 2.5min\n",
            "[CV] criterion=mae, max_depth=50, max_features=13, min_samples_leaf=11, min_samples_split=2, n_estimators=10 \n"
          ]
        },
        {
          "name": "stderr",
          "output_type": "stream",
          "text": [
            "[Parallel(n_jobs=1)]: Done   1 out of   1 | elapsed:  2.5min remaining:    0.0s\n"
          ]
        },
        {
          "name": "stdout",
          "output_type": "stream",
          "text": [
            "[CV]  criterion=mae, max_depth=50, max_features=13, min_samples_leaf=11, min_samples_split=2, n_estimators=10, total= 2.4min\n",
            "[CV] criterion=mae, max_depth=50, max_features=13, min_samples_leaf=11, min_samples_split=2, n_estimators=10 \n",
            "[CV]  criterion=mae, max_depth=50, max_features=13, min_samples_leaf=11, min_samples_split=2, n_estimators=10, total= 2.5min\n"
          ]
        },
        {
          "name": "stderr",
          "output_type": "stream",
          "text": [
            "[Parallel(n_jobs=1)]: Done   3 out of   3 | elapsed:  7.4min finished\n"
          ]
        },
        {
          "name": "stdout",
          "output_type": "stream",
          "text": [
            "Fitting 3 folds for each of 1 candidates, totalling 3 fits\n",
            "[CV] criterion=mae, max_depth=50, max_features=13, min_samples_leaf=9, min_samples_split=11, n_estimators=100 \n"
          ]
        },
        {
          "name": "stderr",
          "output_type": "stream",
          "text": [
            "[Parallel(n_jobs=1)]: Using backend SequentialBackend with 1 concurrent workers.\n"
          ]
        },
        {
          "name": "stdout",
          "output_type": "stream",
          "text": [
            "[CV]  criterion=mae, max_depth=50, max_features=13, min_samples_leaf=9, min_samples_split=11, n_estimators=100, total=24.9min\n",
            "[CV] criterion=mae, max_depth=50, max_features=13, min_samples_leaf=9, min_samples_split=11, n_estimators=100 \n"
          ]
        },
        {
          "name": "stderr",
          "output_type": "stream",
          "text": [
            "[Parallel(n_jobs=1)]: Done   1 out of   1 | elapsed: 24.9min remaining:    0.0s\n"
          ]
        },
        {
          "name": "stdout",
          "output_type": "stream",
          "text": [
            "[CV]  criterion=mae, max_depth=50, max_features=13, min_samples_leaf=9, min_samples_split=11, n_estimators=100, total=24.3min\n",
            "[CV] criterion=mae, max_depth=50, max_features=13, min_samples_leaf=9, min_samples_split=11, n_estimators=100 \n",
            "[CV]  criterion=mae, max_depth=50, max_features=13, min_samples_leaf=9, min_samples_split=11, n_estimators=100, total=24.6min\n"
          ]
        },
        {
          "name": "stderr",
          "output_type": "stream",
          "text": [
            "[Parallel(n_jobs=1)]: Done   3 out of   3 | elapsed: 73.8min finished\n"
          ]
        },
        {
          "name": "stdout",
          "output_type": "stream",
          "text": [
            "Fitting 3 folds for each of 1 candidates, totalling 3 fits\n",
            "[CV] criterion=mse, max_depth=34, max_features=13, min_samples_leaf=11, min_samples_split=2, n_estimators=100 \n"
          ]
        },
        {
          "name": "stderr",
          "output_type": "stream",
          "text": [
            "[Parallel(n_jobs=1)]: Using backend SequentialBackend with 1 concurrent workers.\n"
          ]
        },
        {
          "name": "stdout",
          "output_type": "stream",
          "text": [
            "[CV]  criterion=mse, max_depth=34, max_features=13, min_samples_leaf=11, min_samples_split=2, n_estimators=100, total=  25.1s\n",
            "[CV] criterion=mse, max_depth=34, max_features=13, min_samples_leaf=11, min_samples_split=2, n_estimators=100 \n"
          ]
        },
        {
          "name": "stderr",
          "output_type": "stream",
          "text": [
            "[Parallel(n_jobs=1)]: Done   1 out of   1 | elapsed:   25.1s remaining:    0.0s\n"
          ]
        },
        {
          "name": "stdout",
          "output_type": "stream",
          "text": [
            "[CV]  criterion=mse, max_depth=34, max_features=13, min_samples_leaf=11, min_samples_split=2, n_estimators=100, total=  25.6s\n",
            "[CV] criterion=mse, max_depth=34, max_features=13, min_samples_leaf=11, min_samples_split=2, n_estimators=100 \n",
            "[CV]  criterion=mse, max_depth=34, max_features=13, min_samples_leaf=11, min_samples_split=2, n_estimators=100, total=  26.0s\n"
          ]
        },
        {
          "name": "stderr",
          "output_type": "stream",
          "text": [
            "[Parallel(n_jobs=1)]: Done   3 out of   3 | elapsed:  1.3min finished\n"
          ]
        },
        {
          "data": {
            "text/plain": [
              "BayesSearchCV(cv=3, error_score='raise',\n",
              "              estimator=RandomForestRegressor(bootstrap=True, ccp_alpha=0.0,\n",
              "                                              criterion='mse', max_depth=None,\n",
              "                                              max_features='auto',\n",
              "                                              max_leaf_nodes=None,\n",
              "                                              max_samples=None,\n",
              "                                              min_impurity_decrease=0.0,\n",
              "                                              min_impurity_split=None,\n",
              "                                              min_samples_leaf=1,\n",
              "                                              min_samples_split=2,\n",
              "                                              min_weight_fraction_leaf=0.0,\n",
              "                                              n_estimators=100, n_jobs=None,\n",
              "                                              oob_score=False...\n",
              "                             'max_depth': Integer(low=5, high=50, prior='uniform', transform='normalize'),\n",
              "                             'max_features': Integer(low=1, high=13, prior='uniform', transform='normalize'),\n",
              "                             'min_samples_leaf': Integer(low=1, high=11, prior='uniform', transform='normalize'),\n",
              "                             'min_samples_split': Integer(low=2, high=11, prior='uniform', transform='normalize'),\n",
              "                             'n_estimators': Integer(low=10, high=100, prior='uniform', transform='normalize')},\n",
              "              verbose=2)"
            ]
          },
          "execution_count": 49,
          "metadata": {},
          "output_type": "execute_result"
        }
      ]
    },
    {
      "cell_type": "code",
      "metadata": {
        "colab": {
          "base_uri": "https://localhost:8080/"
        },
        "id": "QBYPPOO9DLwh",
        "outputId": "15349a06-d306-49de-cced-fab5bd94c25d"
      },
      "source": [
        "Bayes.best_params_"
      ],
      "execution_count": null,
      "outputs": [
        {
          "data": {
            "text/plain": [
              "OrderedDict([('criterion', 'mse'),\n",
              "             ('max_depth', 50),\n",
              "             ('max_features', 12),\n",
              "             ('min_samples_leaf', 11),\n",
              "             ('min_samples_split', 2),\n",
              "             ('n_estimators', 100)])"
            ]
          },
          "execution_count": 50,
          "metadata": {},
          "output_type": "execute_result"
        }
      ]
    },
    {
      "cell_type": "code",
      "metadata": {
        "colab": {
          "base_uri": "https://localhost:8080/"
        },
        "id": "ukTuULZBDNO7",
        "outputId": "d6072ede-4f56-4722-dad1-c4f8115fa10a"
      },
      "source": [
        "Bayes.best_estimator_"
      ],
      "execution_count": null,
      "outputs": [
        {
          "data": {
            "text/plain": [
              "RandomForestRegressor(bootstrap=True, ccp_alpha=0.0, criterion='mse',\n",
              "                      max_depth=50, max_features=12, max_leaf_nodes=None,\n",
              "                      max_samples=None, min_impurity_decrease=0.0,\n",
              "                      min_impurity_split=None, min_samples_leaf=11,\n",
              "                      min_samples_split=2, min_weight_fraction_leaf=0.0,\n",
              "                      n_estimators=100, n_jobs=None, oob_score=False,\n",
              "                      random_state=42, verbose=0, warm_start=False)"
            ]
          },
          "execution_count": 51,
          "metadata": {},
          "output_type": "execute_result"
        }
      ]
    },
    {
      "cell_type": "code",
      "metadata": {
        "colab": {
          "base_uri": "https://localhost:8080/"
        },
        "id": "v7f4ch2kJN5k",
        "outputId": "8235e2a4-4926-473f-cc04-c7488b6c985d"
      },
      "source": [
        "#fit best model with 7 features, new bayes\n",
        "\n",
        "model_PM10 = RandomForestRegressor(bootstrap=True, ccp_alpha=0.0, criterion='mse',\n",
        "                      max_depth=50, max_features=12, max_leaf_nodes=None,\n",
        "                      max_samples=None, min_impurity_decrease=0.0,\n",
        "                      min_impurity_split=None, min_samples_leaf=11,\n",
        "                      min_samples_split=2, min_weight_fraction_leaf=0.0,\n",
        "                      n_estimators=100, n_jobs=None, oob_score=False,\n",
        "                      random_state=42, verbose=0, warm_start=False)\n",
        "\n",
        "#Using grid search, giving less r2.\n",
        "#RandomForestRegressor(max_depth=80, max_features=3, min_samples_leaf=3,\n",
        " #                     min_samples_split=8, n_estimators=200,random_state=42)\n",
        "\n",
        "\n",
        "model_PM10.fit(PM10_train_X, PM10_train_y)"
      ],
      "execution_count": 92,
      "outputs": [
        {
          "output_type": "execute_result",
          "data": {
            "text/plain": [
              "RandomForestRegressor(bootstrap=True, ccp_alpha=0.0, criterion='mse',\n",
              "                      max_depth=50, max_features=12, max_leaf_nodes=None,\n",
              "                      max_samples=None, min_impurity_decrease=0.0,\n",
              "                      min_impurity_split=None, min_samples_leaf=11,\n",
              "                      min_samples_split=2, min_weight_fraction_leaf=0.0,\n",
              "                      n_estimators=100, n_jobs=None, oob_score=False,\n",
              "                      random_state=42, verbose=0, warm_start=False)"
            ]
          },
          "metadata": {},
          "execution_count": 92
        }
      ]
    },
    {
      "cell_type": "code",
      "metadata": {
        "id": "-nMGHge8JN5m"
      },
      "source": [
        "yhat=model_PM10.predict(PM10_test_X)\n",
        "yhat = np.repeat(yhat.reshape(-1,1), 11, axis=-1)\n",
        "inv_yhat = scaler.inverse_transform(yhat)[:,3]"
      ],
      "execution_count": 93,
      "outputs": []
    },
    {
      "cell_type": "code",
      "metadata": {
        "id": "qJVRhfWpJN5m"
      },
      "source": [
        "# invert scaling for actual values\n",
        "y_actual=PM10_test_y.reshape(len(PM10_test_y),1)\n",
        "y = np.repeat(y_actual, 11, axis=-1)\n",
        "inv_y=scaler.inverse_transform(y)[:,3]"
      ],
      "execution_count": 94,
      "outputs": []
    },
    {
      "cell_type": "code",
      "metadata": {
        "colab": {
          "base_uri": "https://localhost:8080/"
        },
        "id": "svsQxO4sJN5n",
        "outputId": "7ff6226a-1b6f-4af0-a63e-318d9f9045ed"
      },
      "source": [
        "#Model Evaluation,bayes search random forest, 7 features\n",
        "rmse, mae, mape,r2=model_evaluation(inv_y,inv_yhat)\n",
        "print('Test RMSE: %.3f' % rmse)\n",
        "print('Test MAE: %.3f' % mae)\n",
        "print('Test MAPE: %.3f' % mape)\n",
        "print('Test R2: %.3f' % r2)"
      ],
      "execution_count": 95,
      "outputs": [
        {
          "output_type": "stream",
          "name": "stdout",
          "text": [
            "Test RMSE: 37.876\n",
            "Test MAE: 16.629\n",
            "Test MAPE: 1662.892\n",
            "Test R2: 0.545\n"
          ]
        }
      ]
    },
    {
      "cell_type": "code",
      "metadata": {
        "colab": {
          "base_uri": "https://localhost:8080/",
          "height": 295
        },
        "id": "ps5NRSGhJN5p",
        "outputId": "27a21872-fca3-485b-dc04-ef7b2032bf87"
      },
      "source": [
        "plt.plot(inv_y[:250], color = 'blue', label = 'Real PM10')\n",
        "plt.plot(inv_yhat[:250],\"--\", linewidth=2,color = 'red', label = 'Predicted PM10')\n",
        "plt.title('PM10 Model Results')\n",
        "plt.xlabel('Time')\n",
        "plt.ylabel('ppm')\n",
        "plt.legend()\n",
        "plt.show()"
      ],
      "execution_count": 96,
      "outputs": [
        {
          "output_type": "display_data",
          "data": {
            "image/png": "[encoded data removed]",
            "text/plain": [
              "<Figure size 432x288 with 1 Axes>"
            ]
          },
          "metadata": {
            "needs_background": "light"
          }
        }
      ]
    },
    {
      "cell_type": "markdown",
      "metadata": {
        "id": "ocORrPiYJN5z"
      },
      "source": [
        "### PM 10 GBR"
      ]
    },
    {
      "cell_type": "code",
      "metadata": {
        "id": "AfW6OBYLKYOc",
        "colab": {
          "base_uri": "https://localhost:8080/"
        },
        "outputId": "120f85c9-6a3a-4597-b961-031a6701b171"
      },
      "source": [
        "from sklearn.ensemble import GradientBoostingRegressor\n",
        "\n",
        "gbr = GradientBoostingRegressor(n_estimators = 200, learning_rate = 0.1, loss = \"huber\", \n",
        "                                random_state = 42, n_iter_no_change = 20)\n",
        "\n",
        "gbr.fit(PM10_train_X, PM10_train_y)"
      ],
      "execution_count": 97,
      "outputs": [
        {
          "output_type": "execute_result",
          "data": {
            "text/plain": [
              "GradientBoostingRegressor(alpha=0.9, ccp_alpha=0.0, criterion='friedman_mse',\n",
              "                          init=None, learning_rate=0.1, loss='huber',\n",
              "                          max_depth=3, max_features=None, max_leaf_nodes=None,\n",
              "                          min_impurity_decrease=0.0, min_impurity_split=None,\n",
              "                          min_samples_leaf=1, min_samples_split=2,\n",
              "                          min_weight_fraction_leaf=0.0, n_estimators=200,\n",
              "                          n_iter_no_change=20, presort='deprecated',\n",
              "                          random_state=42, subsample=1.0, tol=0.0001,\n",
              "                          validation_fraction=0.1, verbose=0, warm_start=False)"
            ]
          },
          "metadata": {},
          "execution_count": 97
        }
      ]
    },
    {
      "cell_type": "code",
      "metadata": {
        "id": "SWQEEjOHJN51"
      },
      "source": [
        "yhat=gbr.predict(PM10_test_X)\n",
        "yhat = np.repeat(yhat.reshape(-1,1), 11, axis=-1)\n",
        "inv_yhat = scaler.inverse_transform(yhat)[:,3]"
      ],
      "execution_count": 98,
      "outputs": []
    },
    {
      "cell_type": "code",
      "metadata": {
        "id": "LS62Lx_SgLiR"
      },
      "source": [
        "# invert scaling for actual values\n",
        "y_actual=PM10_test_y.reshape(len(PM10_test_y),1)\n",
        "y = np.repeat(y_actual, 11, axis=-1)\n",
        "inv_y=scaler.inverse_transform(y)[:,3]"
      ],
      "execution_count": 99,
      "outputs": []
    },
    {
      "cell_type": "code",
      "metadata": {
        "colab": {
          "base_uri": "https://localhost:8080/"
        },
        "id": "YQtMBTRAgOo6",
        "outputId": "ac350b79-0a89-4ac9-e685-d8ec755be2ac"
      },
      "source": [
        "#Model Evaluation,\n",
        "rmse, mae, mape,r2=model_evaluation(inv_y,inv_yhat)\n",
        "print('Test RMSE: %.3f' % rmse)\n",
        "print('Test MAE: %.3f' % mae)\n",
        "print('Test MAPE: %.3f' % mape)\n",
        "print('Test R2: %.3f' % r2)"
      ],
      "execution_count": 100,
      "outputs": [
        {
          "output_type": "stream",
          "name": "stdout",
          "text": [
            "Test RMSE: 38.460\n",
            "Test MAE: 16.421\n",
            "Test MAPE: 1642.113\n",
            "Test R2: 0.531\n"
          ]
        }
      ]
    },
    {
      "cell_type": "code",
      "metadata": {
        "colab": {
          "base_uri": "https://localhost:8080/",
          "height": 295
        },
        "id": "uhKOHJo4gR3F",
        "outputId": "2a631eb6-d401-4e19-da7c-a566c6ed689c"
      },
      "source": [
        "plt.plot(inv_y[:250], color = 'blue', label = 'Real PM10')\n",
        "plt.plot(inv_yhat[:250],\"--\", linewidth=2,color = 'red', label = 'Predicted PM10')\n",
        "plt.title('PM10 Model Results')\n",
        "plt.xlabel('Time')\n",
        "plt.ylabel('ppm')\n",
        "plt.legend()\n",
        "plt.show()"
      ],
      "execution_count": 101,
      "outputs": [
        {
          "output_type": "display_data",
          "data": {
            "image/png": "[encoded data removed]",
            "text/plain": [
              "<Figure size 432x288 with 1 Axes>"
            ]
          },
          "metadata": {
            "needs_background": "light"
          }
        }
      ]
    },
    {
      "cell_type": "markdown",
      "metadata": {
        "id": "N3JKeNdPJN6B"
      },
      "source": [
        "### PM10 Ensemble"
      ]
    },
    {
      "cell_type": "markdown",
      "metadata": {
        "id": "NDmYcIAjheAm"
      },
      "source": [
        "**PM10 Voting Ensemble**"
      ]
    },
    {
      "cell_type": "code",
      "metadata": {
        "colab": {
          "base_uri": "https://localhost:8080/"
        },
        "id": "HkSW0j_IyTIi",
        "outputId": "9e930f1f-4cbe-48f1-9557-b32726a9d885"
      },
      "source": [
        "r1=RandomForestRegressor(bootstrap=True, ccp_alpha=0.0, criterion='mse',\n",
        "                      max_depth=50, max_features=12, max_leaf_nodes=None,\n",
        "                      max_samples=None, min_impurity_decrease=0.0,\n",
        "                      min_impurity_split=None, min_samples_leaf=11,\n",
        "                      min_samples_split=2, min_weight_fraction_leaf=0.0,\n",
        "                      n_estimators=100, n_jobs=None, oob_score=False,\n",
        "                      random_state=42, verbose=0, warm_start=False)\n",
        "\n",
        "r2=GradientBoostingRegressor(n_estimators = 200, learning_rate = 0.1, loss = \"huber\", \n",
        "                                random_state = 42, n_iter_no_change = 20)\n",
        "\n",
        "\n",
        "vr = VotingRegressor([('rf', r1), ('gb', r2)],weights =[3,1])\n",
        "\n",
        "vr.fit(PM10_train_X, PM10_train_y)"
      ],
      "execution_count": 102,
      "outputs": [
        {
          "output_type": "execute_result",
          "data": {
            "text/plain": [
              "VotingRegressor(estimators=[('rf',\n",
              "                             RandomForestRegressor(bootstrap=True,\n",
              "                                                   ccp_alpha=0.0,\n",
              "                                                   criterion='mse',\n",
              "                                                   max_depth=50,\n",
              "                                                   max_features=12,\n",
              "                                                   max_leaf_nodes=None,\n",
              "                                                   max_samples=None,\n",
              "                                                   min_impurity_decrease=0.0,\n",
              "                                                   min_impurity_split=None,\n",
              "                                                   min_samples_leaf=11,\n",
              "                                                   min_samples_split=2,\n",
              "                                                   min_weight_fraction_leaf=0.0,\n",
              "                                                   n_estimators=100,\n",
              "                                                   n_jobs=None, oob_score=False,\n",
              "                                                   random_state=42, ver...\n",
              "                                                       loss='huber',\n",
              "                                                       max_depth=3,\n",
              "                                                       max_features=None,\n",
              "                                                       max_leaf_nodes=None,\n",
              "                                                       min_impurity_decrease=0.0,\n",
              "                                                       min_impurity_split=None,\n",
              "                                                       min_samples_leaf=1,\n",
              "                                                       min_samples_split=2,\n",
              "                                                       min_weight_fraction_leaf=0.0,\n",
              "                                                       n_estimators=200,\n",
              "                                                       n_iter_no_change=20,\n",
              "                                                       presort='deprecated',\n",
              "                                                       random_state=42,\n",
              "                                                       subsample=1.0,\n",
              "                                                       tol=0.0001,\n",
              "                                                       validation_fraction=0.1,\n",
              "                                                       verbose=0,\n",
              "                                                       warm_start=False))],\n",
              "                n_jobs=None, weights=[3, 1])"
            ]
          },
          "metadata": {},
          "execution_count": 102
        }
      ]
    },
    {
      "cell_type": "code",
      "metadata": {
        "colab": {
          "base_uri": "https://localhost:8080/"
        },
        "id": "AW5875v4ywfZ",
        "outputId": "17640148-6ea7-4926-eb08-847305c7f2df"
      },
      "source": [
        "yhat=vr.predict(PM10_test_X)\n",
        "yhat = np.repeat(yhat.reshape(-1,1), 11, axis=-1)\n",
        "inv_yhat = scaler.inverse_transform(yhat)[:,3]\n",
        "\n",
        "# invert scaling for actual values\n",
        "y_actual=PM10_test_y.reshape(len(PM10_test_y),1)\n",
        "y = np.repeat(y_actual, 11, axis=-1)\n",
        "inv_y=scaler.inverse_transform(y)[:,3]\n",
        "\n",
        "#Model Evaluation, stacking, weights two, 3 1\n",
        "rmse, mae, mape,r2=model_evaluation(inv_y,inv_yhat)\n",
        "print('Test RMSE: %.3f' % rmse)\n",
        "print('Test MAE: %.3f' % mae)\n",
        "print('Test MAPE: %.3f' % mape)\n",
        "print('Test R2: %.3f' % r2)"
      ],
      "execution_count": 104,
      "outputs": [
        {
          "output_type": "stream",
          "name": "stdout",
          "text": [
            "Test RMSE: 37.837\n",
            "Test MAE: 16.450\n",
            "Test MAPE: 1645.016\n",
            "Test R2: 0.546\n"
          ]
        }
      ]
    },
    {
      "cell_type": "markdown",
      "metadata": {
        "id": "Vs4AeQ-8JN6G"
      },
      "source": [
        "## PM2.5 Forecasting"
      ]
    },
    {
      "cell_type": "markdown",
      "metadata": {
        "id": "nKm63-s8v-5E"
      },
      "source": [
        "**PM 2.5 Machine Learning Model**"
      ]
    },
    {
      "cell_type": "code",
      "metadata": {
        "id": "jaN1YoEJJN6y",
        "colab": {
          "base_uri": "https://localhost:8080/",
          "height": 206
        },
        "outputId": "bd66c9f8-9d55-4176-8663-27b9296acb26"
      },
      "source": [
        "df_PM25=df.iloc[:,[4,3,6,7,8,9,10]] #CNN 0.455, better\n",
        "#df_PM25=df.iloc[:,[4,3,6,8,10]]\n",
        "df_PM25.head()"
      ],
      "execution_count": 133,
      "outputs": [
        {
          "output_type": "execute_result",
          "data": {
            "text/html": [
              "<div>\n",
              "<style scoped>\n",
              "    .dataframe tbody tr th:only-of-type {\n",
              "        vertical-align: middle;\n",
              "    }\n",
              "\n",
              "    .dataframe tbody tr th {\n",
              "        vertical-align: top;\n",
              "    }\n",
              "\n",
              "    .dataframe thead th {\n",
              "        text-align: right;\n",
              "    }\n",
              "</style>\n",
              "<table border=\"1\" class=\"dataframe\">\n",
              "  <thead>\n",
              "    <tr style=\"text-align: right;\">\n",
              "      <th></th>\n",
              "      <th>PM25</th>\n",
              "      <th>PM10</th>\n",
              "      <th>Barometric_Pressure</th>\n",
              "      <th>Dewpoint</th>\n",
              "      <th>Relative_Humidity</th>\n",
              "      <th>Temperature</th>\n",
              "      <th>Wind_Speed</th>\n",
              "    </tr>\n",
              "  </thead>\n",
              "  <tbody>\n",
              "    <tr>\n",
              "      <th>2015-01-02 10:00:00</th>\n",
              "      <td>-0.093282</td>\n",
              "      <td>-0.063857</td>\n",
              "      <td>1.331716</td>\n",
              "      <td>-0.390781</td>\n",
              "      <td>-0.359205</td>\n",
              "      <td>-1.371250</td>\n",
              "      <td>0.224861</td>\n",
              "    </tr>\n",
              "    <tr>\n",
              "      <th>2015-01-02 11:00:00</th>\n",
              "      <td>-0.093282</td>\n",
              "      <td>-0.155189</td>\n",
              "      <td>1.143620</td>\n",
              "      <td>-0.524329</td>\n",
              "      <td>-0.536764</td>\n",
              "      <td>-1.154079</td>\n",
              "      <td>-0.152468</td>\n",
              "    </tr>\n",
              "    <tr>\n",
              "      <th>2015-01-02 12:00:00</th>\n",
              "      <td>0.166494</td>\n",
              "      <td>-0.312401</td>\n",
              "      <td>0.977468</td>\n",
              "      <td>-1.337763</td>\n",
              "      <td>-0.762775</td>\n",
              "      <td>-0.895541</td>\n",
              "      <td>-0.392585</td>\n",
              "    </tr>\n",
              "    <tr>\n",
              "      <th>2015-01-02 13:00:00</th>\n",
              "      <td>-0.014666</td>\n",
              "      <td>-0.358815</td>\n",
              "      <td>0.914769</td>\n",
              "      <td>-1.532016</td>\n",
              "      <td>-0.777822</td>\n",
              "      <td>-0.802467</td>\n",
              "      <td>-0.907124</td>\n",
              "    </tr>\n",
              "    <tr>\n",
              "      <th>2015-01-02 14:00:00</th>\n",
              "      <td>0.039597</td>\n",
              "      <td>-0.351329</td>\n",
              "      <td>0.852070</td>\n",
              "      <td>-1.871958</td>\n",
              "      <td>-0.782035</td>\n",
              "      <td>-0.750760</td>\n",
              "      <td>-0.598401</td>\n",
              "    </tr>\n",
              "  </tbody>\n",
              "</table>\n",
              "</div>"
            ],
            "text/plain": [
              "                         PM25      PM10  ...  Temperature  Wind_Speed\n",
              "2015-01-02 10:00:00 -0.093282 -0.063857  ...    -1.371250    0.224861\n",
              "2015-01-02 11:00:00 -0.093282 -0.155189  ...    -1.154079   -0.152468\n",
              "2015-01-02 12:00:00  0.166494 -0.312401  ...    -0.895541   -0.392585\n",
              "2015-01-02 13:00:00 -0.014666 -0.358815  ...    -0.802467   -0.907124\n",
              "2015-01-02 14:00:00  0.039597 -0.351329  ...    -0.750760   -0.598401\n",
              "\n",
              "[5 rows x 7 columns]"
            ]
          },
          "metadata": {},
          "execution_count": 133
        }
      ]
    },
    {
      "cell_type": "code",
      "metadata": {
        "colab": {
          "base_uri": "https://localhost:8080/"
        },
        "id": "YMwFF0yjWqYm",
        "outputId": "0fa5aab0-3b34-4c83-cfcb-a577c3f280e8"
      },
      "source": [
        "# specify the number of lag hours\n",
        "n_hours = 5\n",
        "n_features = 7 #number of features in dataframe to be used\n",
        "\n",
        "# frame as supervised learning\n",
        "scaled_PM25=df_PM25.values\n",
        "reframed_PM25 = series_to_supervised(scaled_PM25, n_hours, 1)\n",
        "print(reframed_PM25.shape)\n",
        "\n",
        "#Try this\n",
        "def split_ml(data,n_hours = 1, n_features = 10):\n",
        "    values = data.values\n",
        "    #use data for 2015-2017 for training, 2018-2019 for validation and 2020 for testing\n",
        "\n",
        "    train = values[:43785, :]\n",
        "\n",
        "    test = values[43785:, :]\n",
        "    # split into input and outputs\n",
        "    n_obs = n_hours * n_features\n",
        "    train_X, train_y = train[:, :n_obs], train[:, -n_features]\n",
        "\n",
        "    test_X, test_y = test[:, :n_obs], test[:, -n_features]\n",
        "    \n",
        "    return train_X, train_y, test_X, test_y\n",
        "\n",
        "#PM25:\n",
        "PM25_train_X, PM25_train_y, PM25_test_X, PM25_test_y=split_ml(reframed_PM25,n_hours=n_hours,n_features=n_features) #for lstm 3d data is required\n",
        "\n",
        "print(\"training data CO:\",PM25_train_X.shape, len(PM25_train_X), PM25_train_y.shape)\n",
        "print(\"testing data CO:\",PM25_test_X.shape, len(PM25_test_X), PM25_test_y.shape)"
      ],
      "execution_count": 134,
      "outputs": [
        {
          "output_type": "stream",
          "name": "stdout",
          "text": [
            "(52569, 42)\n",
            "training data CO: (43785, 35) 43785 (43785,)\n",
            "testing data CO: (8784, 35) 8784 (8784,)\n"
          ]
        }
      ]
    },
    {
      "cell_type": "code",
      "metadata": {
        "colab": {
          "base_uri": "https://localhost:8080/"
        },
        "id": "rW0evwxkWzQh",
        "outputId": "c85aee88-712f-4ef0-e491-761122ebb1e3"
      },
      "source": [
        "#RF Bayes optimization\n",
        "\n",
        "# Define the hyperparameter configuration space\n",
        "rf_params = {\n",
        "    'n_estimators': Integer(10,100),\n",
        "    \"max_features\":Integer(1,13),\n",
        "    'max_depth': Integer(5,50),\n",
        "    \"min_samples_split\":Integer(2,11),\n",
        "    \"min_samples_leaf\":Integer(1,11)\n",
        "    }\n",
        "clf = RandomForestRegressor(random_state=42)\n",
        "\n",
        "Bayes = BayesSearchCV(clf, rf_params,cv=3,n_iter=20,verbose=2, scoring='neg_mean_squared_error') \n",
        "#number of iterations is set to 20, you can increase this number if time permits\n",
        "Bayes.fit(PM25_train_X, PM25_train_y)"
      ],
      "execution_count": 138,
      "outputs": [
        {
          "output_type": "stream",
          "name": "stdout",
          "text": [
            "Fitting 3 folds for each of 1 candidates, totalling 3 fits\n",
            "[CV] max_depth=23, max_features=10, min_samples_leaf=10, min_samples_split=5, n_estimators=70 \n"
          ]
        },
        {
          "output_type": "stream",
          "name": "stderr",
          "text": [
            "[Parallel(n_jobs=1)]: Using backend SequentialBackend with 1 concurrent workers.\n"
          ]
        },
        {
          "output_type": "stream",
          "name": "stdout",
          "text": [
            "[CV]  max_depth=23, max_features=10, min_samples_leaf=10, min_samples_split=5, n_estimators=70, total=  15.1s\n",
            "[CV] max_depth=23, max_features=10, min_samples_leaf=10, min_samples_split=5, n_estimators=70 \n"
          ]
        },
        {
          "output_type": "stream",
          "name": "stderr",
          "text": [
            "[Parallel(n_jobs=1)]: Done   1 out of   1 | elapsed:   15.1s remaining:    0.0s\n"
          ]
        },
        {
          "output_type": "stream",
          "name": "stdout",
          "text": [
            "[CV]  max_depth=23, max_features=10, min_samples_leaf=10, min_samples_split=5, n_estimators=70, total=  16.2s\n",
            "[CV] max_depth=23, max_features=10, min_samples_leaf=10, min_samples_split=5, n_estimators=70 \n",
            "[CV]  max_depth=23, max_features=10, min_samples_leaf=10, min_samples_split=5, n_estimators=70, total=  16.6s\n",
            "Fitting 3 folds for each of 1 candidates, totalling 3 fits\n",
            "[CV] max_depth=43, max_features=12, min_samples_leaf=4, min_samples_split=11, n_estimators=88 \n"
          ]
        },
        {
          "output_type": "stream",
          "name": "stderr",
          "text": [
            "[Parallel(n_jobs=1)]: Done   3 out of   3 | elapsed:   47.9s finished\n",
            "[Parallel(n_jobs=1)]: Using backend SequentialBackend with 1 concurrent workers.\n"
          ]
        },
        {
          "output_type": "stream",
          "name": "stdout",
          "text": [
            "[CV]  max_depth=43, max_features=12, min_samples_leaf=4, min_samples_split=11, n_estimators=88, total=  26.7s\n",
            "[CV] max_depth=43, max_features=12, min_samples_leaf=4, min_samples_split=11, n_estimators=88 \n"
          ]
        },
        {
          "output_type": "stream",
          "name": "stderr",
          "text": [
            "[Parallel(n_jobs=1)]: Done   1 out of   1 | elapsed:   26.7s remaining:    0.0s\n"
          ]
        },
        {
          "output_type": "stream",
          "name": "stdout",
          "text": [
            "[CV]  max_depth=43, max_features=12, min_samples_leaf=4, min_samples_split=11, n_estimators=88, total=  28.6s\n",
            "[CV] max_depth=43, max_features=12, min_samples_leaf=4, min_samples_split=11, n_estimators=88 \n",
            "[CV]  max_depth=43, max_features=12, min_samples_leaf=4, min_samples_split=11, n_estimators=88, total=  29.4s\n",
            "Fitting 3 folds for each of 1 candidates, totalling 3 fits\n",
            "[CV] max_depth=25, max_features=12, min_samples_leaf=2, min_samples_split=6, n_estimators=27 \n"
          ]
        },
        {
          "output_type": "stream",
          "name": "stderr",
          "text": [
            "[Parallel(n_jobs=1)]: Done   3 out of   3 | elapsed:  1.4min finished\n",
            "[Parallel(n_jobs=1)]: Using backend SequentialBackend with 1 concurrent workers.\n"
          ]
        },
        {
          "output_type": "stream",
          "name": "stdout",
          "text": [
            "[CV]  max_depth=25, max_features=12, min_samples_leaf=2, min_samples_split=6, n_estimators=27, total=   8.8s\n",
            "[CV] max_depth=25, max_features=12, min_samples_leaf=2, min_samples_split=6, n_estimators=27 \n"
          ]
        },
        {
          "output_type": "stream",
          "name": "stderr",
          "text": [
            "[Parallel(n_jobs=1)]: Done   1 out of   1 | elapsed:    8.8s remaining:    0.0s\n"
          ]
        },
        {
          "output_type": "stream",
          "name": "stdout",
          "text": [
            "[CV]  max_depth=25, max_features=12, min_samples_leaf=2, min_samples_split=6, n_estimators=27, total=   9.4s\n",
            "[CV] max_depth=25, max_features=12, min_samples_leaf=2, min_samples_split=6, n_estimators=27 \n",
            "[CV]  max_depth=25, max_features=12, min_samples_leaf=2, min_samples_split=6, n_estimators=27, total=   9.5s\n",
            "Fitting 3 folds for each of 1 candidates, totalling 3 fits\n",
            "[CV] max_depth=42, max_features=3, min_samples_leaf=7, min_samples_split=9, n_estimators=57 \n"
          ]
        },
        {
          "output_type": "stream",
          "name": "stderr",
          "text": [
            "[Parallel(n_jobs=1)]: Done   3 out of   3 | elapsed:   27.7s finished\n",
            "[Parallel(n_jobs=1)]: Using backend SequentialBackend with 1 concurrent workers.\n"
          ]
        },
        {
          "output_type": "stream",
          "name": "stdout",
          "text": [
            "[CV]  max_depth=42, max_features=3, min_samples_leaf=7, min_samples_split=9, n_estimators=57, total=   4.3s\n",
            "[CV] max_depth=42, max_features=3, min_samples_leaf=7, min_samples_split=9, n_estimators=57 \n"
          ]
        },
        {
          "output_type": "stream",
          "name": "stderr",
          "text": [
            "[Parallel(n_jobs=1)]: Done   1 out of   1 | elapsed:    4.3s remaining:    0.0s\n"
          ]
        },
        {
          "output_type": "stream",
          "name": "stdout",
          "text": [
            "[CV]  max_depth=42, max_features=3, min_samples_leaf=7, min_samples_split=9, n_estimators=57, total=   4.7s\n",
            "[CV] max_depth=42, max_features=3, min_samples_leaf=7, min_samples_split=9, n_estimators=57 \n",
            "[CV]  max_depth=42, max_features=3, min_samples_leaf=7, min_samples_split=9, n_estimators=57, total=   4.8s\n",
            "Fitting 3 folds for each of 1 candidates, totalling 3 fits\n",
            "[CV] max_depth=41, max_features=6, min_samples_leaf=6, min_samples_split=8, n_estimators=91 \n"
          ]
        },
        {
          "output_type": "stream",
          "name": "stderr",
          "text": [
            "[Parallel(n_jobs=1)]: Done   3 out of   3 | elapsed:   13.8s finished\n",
            "[Parallel(n_jobs=1)]: Using backend SequentialBackend with 1 concurrent workers.\n"
          ]
        },
        {
          "output_type": "stream",
          "name": "stdout",
          "text": [
            "[CV]  max_depth=41, max_features=6, min_samples_leaf=6, min_samples_split=8, n_estimators=91, total=  13.4s\n",
            "[CV] max_depth=41, max_features=6, min_samples_leaf=6, min_samples_split=8, n_estimators=91 \n"
          ]
        },
        {
          "output_type": "stream",
          "name": "stderr",
          "text": [
            "[Parallel(n_jobs=1)]: Done   1 out of   1 | elapsed:   13.4s remaining:    0.0s\n"
          ]
        },
        {
          "output_type": "stream",
          "name": "stdout",
          "text": [
            "[CV]  max_depth=41, max_features=6, min_samples_leaf=6, min_samples_split=8, n_estimators=91, total=  14.3s\n",
            "[CV] max_depth=41, max_features=6, min_samples_leaf=6, min_samples_split=8, n_estimators=91 \n",
            "[CV]  max_depth=41, max_features=6, min_samples_leaf=6, min_samples_split=8, n_estimators=91, total=  14.6s\n",
            "Fitting 3 folds for each of 1 candidates, totalling 3 fits\n",
            "[CV] max_depth=38, max_features=12, min_samples_leaf=3, min_samples_split=4, n_estimators=82 \n"
          ]
        },
        {
          "output_type": "stream",
          "name": "stderr",
          "text": [
            "[Parallel(n_jobs=1)]: Done   3 out of   3 | elapsed:   42.3s finished\n",
            "[Parallel(n_jobs=1)]: Using backend SequentialBackend with 1 concurrent workers.\n"
          ]
        },
        {
          "output_type": "stream",
          "name": "stdout",
          "text": [
            "[CV]  max_depth=38, max_features=12, min_samples_leaf=3, min_samples_split=4, n_estimators=82, total=  26.7s\n",
            "[CV] max_depth=38, max_features=12, min_samples_leaf=3, min_samples_split=4, n_estimators=82 \n"
          ]
        },
        {
          "output_type": "stream",
          "name": "stderr",
          "text": [
            "[Parallel(n_jobs=1)]: Done   1 out of   1 | elapsed:   26.7s remaining:    0.0s\n"
          ]
        },
        {
          "output_type": "stream",
          "name": "stdout",
          "text": [
            "[CV]  max_depth=38, max_features=12, min_samples_leaf=3, min_samples_split=4, n_estimators=82, total=  28.2s\n",
            "[CV] max_depth=38, max_features=12, min_samples_leaf=3, min_samples_split=4, n_estimators=82 \n",
            "[CV]  max_depth=38, max_features=12, min_samples_leaf=3, min_samples_split=4, n_estimators=82, total=  29.0s\n",
            "Fitting 3 folds for each of 1 candidates, totalling 3 fits\n",
            "[CV] max_depth=33, max_features=10, min_samples_leaf=5, min_samples_split=10, n_estimators=63 \n"
          ]
        },
        {
          "output_type": "stream",
          "name": "stderr",
          "text": [
            "[Parallel(n_jobs=1)]: Done   3 out of   3 | elapsed:  1.4min finished\n",
            "[Parallel(n_jobs=1)]: Using backend SequentialBackend with 1 concurrent workers.\n"
          ]
        },
        {
          "output_type": "stream",
          "name": "stdout",
          "text": [
            "[CV]  max_depth=33, max_features=10, min_samples_leaf=5, min_samples_split=10, n_estimators=63, total=  15.5s\n",
            "[CV] max_depth=33, max_features=10, min_samples_leaf=5, min_samples_split=10, n_estimators=63 \n"
          ]
        },
        {
          "output_type": "stream",
          "name": "stderr",
          "text": [
            "[Parallel(n_jobs=1)]: Done   1 out of   1 | elapsed:   15.5s remaining:    0.0s\n"
          ]
        },
        {
          "output_type": "stream",
          "name": "stdout",
          "text": [
            "[CV]  max_depth=33, max_features=10, min_samples_leaf=5, min_samples_split=10, n_estimators=63, total=  16.6s\n",
            "[CV] max_depth=33, max_features=10, min_samples_leaf=5, min_samples_split=10, n_estimators=63 \n",
            "[CV]  max_depth=33, max_features=10, min_samples_leaf=5, min_samples_split=10, n_estimators=63, total=  17.1s\n",
            "Fitting 3 folds for each of 1 candidates, totalling 3 fits\n",
            "[CV] max_depth=29, max_features=12, min_samples_leaf=6, min_samples_split=10, n_estimators=39 \n"
          ]
        },
        {
          "output_type": "stream",
          "name": "stderr",
          "text": [
            "[Parallel(n_jobs=1)]: Done   3 out of   3 | elapsed:   49.1s finished\n",
            "[Parallel(n_jobs=1)]: Using backend SequentialBackend with 1 concurrent workers.\n"
          ]
        },
        {
          "output_type": "stream",
          "name": "stdout",
          "text": [
            "[CV]  max_depth=29, max_features=12, min_samples_leaf=6, min_samples_split=10, n_estimators=39, total=  11.2s\n",
            "[CV] max_depth=29, max_features=12, min_samples_leaf=6, min_samples_split=10, n_estimators=39 \n"
          ]
        },
        {
          "output_type": "stream",
          "name": "stderr",
          "text": [
            "[Parallel(n_jobs=1)]: Done   1 out of   1 | elapsed:   11.2s remaining:    0.0s\n"
          ]
        },
        {
          "output_type": "stream",
          "name": "stdout",
          "text": [
            "[CV]  max_depth=29, max_features=12, min_samples_leaf=6, min_samples_split=10, n_estimators=39, total=  12.1s\n",
            "[CV] max_depth=29, max_features=12, min_samples_leaf=6, min_samples_split=10, n_estimators=39 \n",
            "[CV]  max_depth=29, max_features=12, min_samples_leaf=6, min_samples_split=10, n_estimators=39, total=  12.4s\n",
            "Fitting 3 folds for each of 1 candidates, totalling 3 fits\n",
            "[CV] max_depth=48, max_features=9, min_samples_leaf=10, min_samples_split=6, n_estimators=44 \n"
          ]
        },
        {
          "output_type": "stream",
          "name": "stderr",
          "text": [
            "[Parallel(n_jobs=1)]: Done   3 out of   3 | elapsed:   35.6s finished\n",
            "[Parallel(n_jobs=1)]: Using backend SequentialBackend with 1 concurrent workers.\n"
          ]
        },
        {
          "output_type": "stream",
          "name": "stdout",
          "text": [
            "[CV]  max_depth=48, max_features=9, min_samples_leaf=10, min_samples_split=6, n_estimators=44, total=   8.8s\n",
            "[CV] max_depth=48, max_features=9, min_samples_leaf=10, min_samples_split=6, n_estimators=44 \n"
          ]
        },
        {
          "output_type": "stream",
          "name": "stderr",
          "text": [
            "[Parallel(n_jobs=1)]: Done   1 out of   1 | elapsed:    8.8s remaining:    0.0s\n"
          ]
        },
        {
          "output_type": "stream",
          "name": "stdout",
          "text": [
            "[CV]  max_depth=48, max_features=9, min_samples_leaf=10, min_samples_split=6, n_estimators=44, total=   9.4s\n",
            "[CV] max_depth=48, max_features=9, min_samples_leaf=10, min_samples_split=6, n_estimators=44 \n",
            "[CV]  max_depth=48, max_features=9, min_samples_leaf=10, min_samples_split=6, n_estimators=44, total=   9.7s\n"
          ]
        },
        {
          "output_type": "stream",
          "name": "stderr",
          "text": [
            "[Parallel(n_jobs=1)]: Done   3 out of   3 | elapsed:   27.8s finished\n"
          ]
        },
        {
          "output_type": "stream",
          "name": "stdout",
          "text": [
            "Fitting 3 folds for each of 1 candidates, totalling 3 fits\n",
            "[CV] max_depth=5, max_features=11, min_samples_leaf=8, min_samples_split=4, n_estimators=62 \n"
          ]
        },
        {
          "output_type": "stream",
          "name": "stderr",
          "text": [
            "[Parallel(n_jobs=1)]: Using backend SequentialBackend with 1 concurrent workers.\n"
          ]
        },
        {
          "output_type": "stream",
          "name": "stdout",
          "text": [
            "[CV]  max_depth=5, max_features=11, min_samples_leaf=8, min_samples_split=4, n_estimators=62, total=   4.6s\n",
            "[CV] max_depth=5, max_features=11, min_samples_leaf=8, min_samples_split=4, n_estimators=62 \n"
          ]
        },
        {
          "output_type": "stream",
          "name": "stderr",
          "text": [
            "[Parallel(n_jobs=1)]: Done   1 out of   1 | elapsed:    4.6s remaining:    0.0s\n"
          ]
        },
        {
          "output_type": "stream",
          "name": "stdout",
          "text": [
            "[CV]  max_depth=5, max_features=11, min_samples_leaf=8, min_samples_split=4, n_estimators=62, total=   4.9s\n",
            "[CV] max_depth=5, max_features=11, min_samples_leaf=8, min_samples_split=4, n_estimators=62 \n",
            "[CV]  max_depth=5, max_features=11, min_samples_leaf=8, min_samples_split=4, n_estimators=62, total=   5.0s\n"
          ]
        },
        {
          "output_type": "stream",
          "name": "stderr",
          "text": [
            "[Parallel(n_jobs=1)]: Done   3 out of   3 | elapsed:   14.5s finished\n"
          ]
        },
        {
          "output_type": "stream",
          "name": "stdout",
          "text": [
            "Fitting 3 folds for each of 1 candidates, totalling 3 fits\n",
            "[CV] max_depth=50, max_features=11, min_samples_leaf=1, min_samples_split=11, n_estimators=100 \n"
          ]
        },
        {
          "output_type": "stream",
          "name": "stderr",
          "text": [
            "[Parallel(n_jobs=1)]: Using backend SequentialBackend with 1 concurrent workers.\n"
          ]
        },
        {
          "output_type": "stream",
          "name": "stdout",
          "text": [
            "[CV]  max_depth=50, max_features=11, min_samples_leaf=1, min_samples_split=11, n_estimators=100, total=  31.5s\n",
            "[CV] max_depth=50, max_features=11, min_samples_leaf=1, min_samples_split=11, n_estimators=100 \n"
          ]
        },
        {
          "output_type": "stream",
          "name": "stderr",
          "text": [
            "[Parallel(n_jobs=1)]: Done   1 out of   1 | elapsed:   31.5s remaining:    0.0s\n"
          ]
        },
        {
          "output_type": "stream",
          "name": "stdout",
          "text": [
            "[CV]  max_depth=50, max_features=11, min_samples_leaf=1, min_samples_split=11, n_estimators=100, total=  33.8s\n",
            "[CV] max_depth=50, max_features=11, min_samples_leaf=1, min_samples_split=11, n_estimators=100 \n",
            "[CV]  max_depth=50, max_features=11, min_samples_leaf=1, min_samples_split=11, n_estimators=100, total=  34.7s\n"
          ]
        },
        {
          "output_type": "stream",
          "name": "stderr",
          "text": [
            "[Parallel(n_jobs=1)]: Done   3 out of   3 | elapsed:  1.7min finished\n"
          ]
        },
        {
          "output_type": "stream",
          "name": "stdout",
          "text": [
            "Fitting 3 folds for each of 1 candidates, totalling 3 fits\n",
            "[CV] max_depth=5, max_features=13, min_samples_leaf=1, min_samples_split=11, n_estimators=100 \n"
          ]
        },
        {
          "output_type": "stream",
          "name": "stderr",
          "text": [
            "[Parallel(n_jobs=1)]: Using backend SequentialBackend with 1 concurrent workers.\n"
          ]
        },
        {
          "output_type": "stream",
          "name": "stdout",
          "text": [
            "[CV]  max_depth=5, max_features=13, min_samples_leaf=1, min_samples_split=11, n_estimators=100, total=   8.7s\n",
            "[CV] max_depth=5, max_features=13, min_samples_leaf=1, min_samples_split=11, n_estimators=100 \n"
          ]
        },
        {
          "output_type": "stream",
          "name": "stderr",
          "text": [
            "[Parallel(n_jobs=1)]: Done   1 out of   1 | elapsed:    8.7s remaining:    0.0s\n"
          ]
        },
        {
          "output_type": "stream",
          "name": "stdout",
          "text": [
            "[CV]  max_depth=5, max_features=13, min_samples_leaf=1, min_samples_split=11, n_estimators=100, total=   9.3s\n",
            "[CV] max_depth=5, max_features=13, min_samples_leaf=1, min_samples_split=11, n_estimators=100 \n",
            "[CV]  max_depth=5, max_features=13, min_samples_leaf=1, min_samples_split=11, n_estimators=100, total=   9.5s\n"
          ]
        },
        {
          "output_type": "stream",
          "name": "stderr",
          "text": [
            "[Parallel(n_jobs=1)]: Done   3 out of   3 | elapsed:   27.5s finished\n"
          ]
        },
        {
          "output_type": "stream",
          "name": "stdout",
          "text": [
            "Fitting 3 folds for each of 1 candidates, totalling 3 fits\n",
            "[CV] max_depth=5, max_features=10, min_samples_leaf=1, min_samples_split=11, n_estimators=10 \n"
          ]
        },
        {
          "output_type": "stream",
          "name": "stderr",
          "text": [
            "[Parallel(n_jobs=1)]: Using backend SequentialBackend with 1 concurrent workers.\n"
          ]
        },
        {
          "output_type": "stream",
          "name": "stdout",
          "text": [
            "[CV]  max_depth=5, max_features=10, min_samples_leaf=1, min_samples_split=11, n_estimators=10, total=   0.7s\n",
            "[CV] max_depth=5, max_features=10, min_samples_leaf=1, min_samples_split=11, n_estimators=10 \n"
          ]
        },
        {
          "output_type": "stream",
          "name": "stderr",
          "text": [
            "[Parallel(n_jobs=1)]: Done   1 out of   1 | elapsed:    0.7s remaining:    0.0s\n"
          ]
        },
        {
          "output_type": "stream",
          "name": "stdout",
          "text": [
            "[CV]  max_depth=5, max_features=10, min_samples_leaf=1, min_samples_split=11, n_estimators=10, total=   0.7s\n",
            "[CV] max_depth=5, max_features=10, min_samples_leaf=1, min_samples_split=11, n_estimators=10 \n",
            "[CV]  max_depth=5, max_features=10, min_samples_leaf=1, min_samples_split=11, n_estimators=10, total=   0.8s\n"
          ]
        },
        {
          "output_type": "stream",
          "name": "stderr",
          "text": [
            "[Parallel(n_jobs=1)]: Done   3 out of   3 | elapsed:    2.2s finished\n"
          ]
        },
        {
          "output_type": "stream",
          "name": "stdout",
          "text": [
            "Fitting 3 folds for each of 1 candidates, totalling 3 fits\n",
            "[CV] max_depth=50, max_features=13, min_samples_leaf=1, min_samples_split=11, n_estimators=44 \n"
          ]
        },
        {
          "output_type": "stream",
          "name": "stderr",
          "text": [
            "[Parallel(n_jobs=1)]: Using backend SequentialBackend with 1 concurrent workers.\n"
          ]
        },
        {
          "output_type": "stream",
          "name": "stdout",
          "text": [
            "[CV]  max_depth=50, max_features=13, min_samples_leaf=1, min_samples_split=11, n_estimators=44, total=  16.6s\n",
            "[CV] max_depth=50, max_features=13, min_samples_leaf=1, min_samples_split=11, n_estimators=44 \n"
          ]
        },
        {
          "output_type": "stream",
          "name": "stderr",
          "text": [
            "[Parallel(n_jobs=1)]: Done   1 out of   1 | elapsed:   16.6s remaining:    0.0s\n"
          ]
        },
        {
          "output_type": "stream",
          "name": "stdout",
          "text": [
            "[CV]  max_depth=50, max_features=13, min_samples_leaf=1, min_samples_split=11, n_estimators=44, total=  17.9s\n",
            "[CV] max_depth=50, max_features=13, min_samples_leaf=1, min_samples_split=11, n_estimators=44 \n",
            "[CV]  max_depth=50, max_features=13, min_samples_leaf=1, min_samples_split=11, n_estimators=44, total=  18.4s\n"
          ]
        },
        {
          "output_type": "stream",
          "name": "stderr",
          "text": [
            "[Parallel(n_jobs=1)]: Done   3 out of   3 | elapsed:   52.9s finished\n"
          ]
        },
        {
          "output_type": "stream",
          "name": "stdout",
          "text": [
            "Fitting 3 folds for each of 1 candidates, totalling 3 fits\n",
            "[CV] max_depth=5, max_features=10, min_samples_leaf=1, min_samples_split=11, n_estimators=100 \n"
          ]
        },
        {
          "output_type": "stream",
          "name": "stderr",
          "text": [
            "[Parallel(n_jobs=1)]: Using backend SequentialBackend with 1 concurrent workers.\n"
          ]
        },
        {
          "output_type": "stream",
          "name": "stdout",
          "text": [
            "[CV]  max_depth=5, max_features=10, min_samples_leaf=1, min_samples_split=11, n_estimators=100, total=   6.7s\n",
            "[CV] max_depth=5, max_features=10, min_samples_leaf=1, min_samples_split=11, n_estimators=100 \n"
          ]
        },
        {
          "output_type": "stream",
          "name": "stderr",
          "text": [
            "[Parallel(n_jobs=1)]: Done   1 out of   1 | elapsed:    6.7s remaining:    0.0s\n"
          ]
        },
        {
          "output_type": "stream",
          "name": "stdout",
          "text": [
            "[CV]  max_depth=5, max_features=10, min_samples_leaf=1, min_samples_split=11, n_estimators=100, total=   7.2s\n",
            "[CV] max_depth=5, max_features=10, min_samples_leaf=1, min_samples_split=11, n_estimators=100 \n",
            "[CV]  max_depth=5, max_features=10, min_samples_leaf=1, min_samples_split=11, n_estimators=100, total=   7.4s\n"
          ]
        },
        {
          "output_type": "stream",
          "name": "stderr",
          "text": [
            "[Parallel(n_jobs=1)]: Done   3 out of   3 | elapsed:   21.4s finished\n"
          ]
        },
        {
          "output_type": "stream",
          "name": "stdout",
          "text": [
            "Fitting 3 folds for each of 1 candidates, totalling 3 fits\n",
            "[CV] max_depth=50, max_features=13, min_samples_leaf=1, min_samples_split=2, n_estimators=100 \n"
          ]
        },
        {
          "output_type": "stream",
          "name": "stderr",
          "text": [
            "[Parallel(n_jobs=1)]: Using backend SequentialBackend with 1 concurrent workers.\n"
          ]
        },
        {
          "output_type": "stream",
          "name": "stdout",
          "text": [
            "[CV]  max_depth=50, max_features=13, min_samples_leaf=1, min_samples_split=2, n_estimators=100, total=  41.7s\n",
            "[CV] max_depth=50, max_features=13, min_samples_leaf=1, min_samples_split=2, n_estimators=100 \n"
          ]
        },
        {
          "output_type": "stream",
          "name": "stderr",
          "text": [
            "[Parallel(n_jobs=1)]: Done   1 out of   1 | elapsed:   41.7s remaining:    0.0s\n"
          ]
        },
        {
          "output_type": "stream",
          "name": "stdout",
          "text": [
            "[CV]  max_depth=50, max_features=13, min_samples_leaf=1, min_samples_split=2, n_estimators=100, total=  44.0s\n",
            "[CV] max_depth=50, max_features=13, min_samples_leaf=1, min_samples_split=2, n_estimators=100 \n",
            "[CV]  max_depth=50, max_features=13, min_samples_leaf=1, min_samples_split=2, n_estimators=100, total=  45.4s\n"
          ]
        },
        {
          "output_type": "stream",
          "name": "stderr",
          "text": [
            "[Parallel(n_jobs=1)]: Done   3 out of   3 | elapsed:  2.2min finished\n"
          ]
        },
        {
          "output_type": "stream",
          "name": "stdout",
          "text": [
            "Fitting 3 folds for each of 1 candidates, totalling 3 fits\n",
            "[CV] max_depth=50, max_features=13, min_samples_leaf=1, min_samples_split=5, n_estimators=100 \n"
          ]
        },
        {
          "output_type": "stream",
          "name": "stderr",
          "text": [
            "[Parallel(n_jobs=1)]: Using backend SequentialBackend with 1 concurrent workers.\n"
          ]
        },
        {
          "output_type": "stream",
          "name": "stdout",
          "text": [
            "[CV]  max_depth=50, max_features=13, min_samples_leaf=1, min_samples_split=5, n_estimators=100, total=  39.2s\n",
            "[CV] max_depth=50, max_features=13, min_samples_leaf=1, min_samples_split=5, n_estimators=100 \n"
          ]
        },
        {
          "output_type": "stream",
          "name": "stderr",
          "text": [
            "[Parallel(n_jobs=1)]: Done   1 out of   1 | elapsed:   39.2s remaining:    0.0s\n"
          ]
        },
        {
          "output_type": "stream",
          "name": "stdout",
          "text": [
            "[CV]  max_depth=50, max_features=13, min_samples_leaf=1, min_samples_split=5, n_estimators=100, total=  41.8s\n",
            "[CV] max_depth=50, max_features=13, min_samples_leaf=1, min_samples_split=5, n_estimators=100 \n",
            "[CV]  max_depth=50, max_features=13, min_samples_leaf=1, min_samples_split=5, n_estimators=100, total=  42.8s\n"
          ]
        },
        {
          "output_type": "stream",
          "name": "stderr",
          "text": [
            "[Parallel(n_jobs=1)]: Done   3 out of   3 | elapsed:  2.1min finished\n"
          ]
        },
        {
          "output_type": "stream",
          "name": "stdout",
          "text": [
            "Fitting 3 folds for each of 1 candidates, totalling 3 fits\n",
            "[CV] max_depth=50, max_features=13, min_samples_leaf=1, min_samples_split=11, n_estimators=10 \n"
          ]
        },
        {
          "output_type": "stream",
          "name": "stderr",
          "text": [
            "[Parallel(n_jobs=1)]: Using backend SequentialBackend with 1 concurrent workers.\n"
          ]
        },
        {
          "output_type": "stream",
          "name": "stdout",
          "text": [
            "[CV]  max_depth=50, max_features=13, min_samples_leaf=1, min_samples_split=11, n_estimators=10, total=   3.7s\n",
            "[CV] max_depth=50, max_features=13, min_samples_leaf=1, min_samples_split=11, n_estimators=10 \n"
          ]
        },
        {
          "output_type": "stream",
          "name": "stderr",
          "text": [
            "[Parallel(n_jobs=1)]: Done   1 out of   1 | elapsed:    3.7s remaining:    0.0s\n"
          ]
        },
        {
          "output_type": "stream",
          "name": "stdout",
          "text": [
            "[CV]  max_depth=50, max_features=13, min_samples_leaf=1, min_samples_split=11, n_estimators=10, total=   4.0s\n",
            "[CV] max_depth=50, max_features=13, min_samples_leaf=1, min_samples_split=11, n_estimators=10 \n",
            "[CV]  max_depth=50, max_features=13, min_samples_leaf=1, min_samples_split=11, n_estimators=10, total=   4.2s\n"
          ]
        },
        {
          "output_type": "stream",
          "name": "stderr",
          "text": [
            "[Parallel(n_jobs=1)]: Done   3 out of   3 | elapsed:   11.9s finished\n"
          ]
        },
        {
          "output_type": "stream",
          "name": "stdout",
          "text": [
            "Fitting 3 folds for each of 1 candidates, totalling 3 fits\n",
            "[CV] max_depth=50, max_features=11, min_samples_leaf=1, min_samples_split=11, n_estimators=53 \n"
          ]
        },
        {
          "output_type": "stream",
          "name": "stderr",
          "text": [
            "[Parallel(n_jobs=1)]: Using backend SequentialBackend with 1 concurrent workers.\n"
          ]
        },
        {
          "output_type": "stream",
          "name": "stdout",
          "text": [
            "[CV]  max_depth=50, max_features=11, min_samples_leaf=1, min_samples_split=11, n_estimators=53, total=  16.7s\n",
            "[CV] max_depth=50, max_features=11, min_samples_leaf=1, min_samples_split=11, n_estimators=53 \n"
          ]
        },
        {
          "output_type": "stream",
          "name": "stderr",
          "text": [
            "[Parallel(n_jobs=1)]: Done   1 out of   1 | elapsed:   16.7s remaining:    0.0s\n"
          ]
        },
        {
          "output_type": "stream",
          "name": "stdout",
          "text": [
            "[CV]  max_depth=50, max_features=11, min_samples_leaf=1, min_samples_split=11, n_estimators=53, total=  18.1s\n",
            "[CV] max_depth=50, max_features=11, min_samples_leaf=1, min_samples_split=11, n_estimators=53 \n",
            "[CV]  max_depth=50, max_features=11, min_samples_leaf=1, min_samples_split=11, n_estimators=53, total=  18.5s\n"
          ]
        },
        {
          "output_type": "stream",
          "name": "stderr",
          "text": [
            "[Parallel(n_jobs=1)]: Done   3 out of   3 | elapsed:   53.3s finished\n"
          ]
        },
        {
          "output_type": "stream",
          "name": "stdout",
          "text": [
            "Fitting 3 folds for each of 1 candidates, totalling 3 fits\n",
            "[CV] max_depth=50, max_features=10, min_samples_leaf=1, min_samples_split=2, n_estimators=69 \n"
          ]
        },
        {
          "output_type": "stream",
          "name": "stderr",
          "text": [
            "[Parallel(n_jobs=1)]: Using backend SequentialBackend with 1 concurrent workers.\n"
          ]
        },
        {
          "output_type": "stream",
          "name": "stdout",
          "text": [
            "[CV]  max_depth=50, max_features=10, min_samples_leaf=1, min_samples_split=2, n_estimators=69, total=  22.3s\n",
            "[CV] max_depth=50, max_features=10, min_samples_leaf=1, min_samples_split=2, n_estimators=69 \n"
          ]
        },
        {
          "output_type": "stream",
          "name": "stderr",
          "text": [
            "[Parallel(n_jobs=1)]: Done   1 out of   1 | elapsed:   22.3s remaining:    0.0s\n"
          ]
        },
        {
          "output_type": "stream",
          "name": "stdout",
          "text": [
            "[CV]  max_depth=50, max_features=10, min_samples_leaf=1, min_samples_split=2, n_estimators=69, total=  23.7s\n",
            "[CV] max_depth=50, max_features=10, min_samples_leaf=1, min_samples_split=2, n_estimators=69 \n",
            "[CV]  max_depth=50, max_features=10, min_samples_leaf=1, min_samples_split=2, n_estimators=69, total=  24.2s\n"
          ]
        },
        {
          "output_type": "stream",
          "name": "stderr",
          "text": [
            "[Parallel(n_jobs=1)]: Done   3 out of   3 | elapsed:  1.2min finished\n"
          ]
        },
        {
          "output_type": "execute_result",
          "data": {
            "text/plain": [
              "BayesSearchCV(cv=3, error_score='raise',\n",
              "              estimator=RandomForestRegressor(bootstrap=True, ccp_alpha=0.0,\n",
              "                                              criterion='mse', max_depth=None,\n",
              "                                              max_features='auto',\n",
              "                                              max_leaf_nodes=None,\n",
              "                                              max_samples=None,\n",
              "                                              min_impurity_decrease=0.0,\n",
              "                                              min_impurity_split=None,\n",
              "                                              min_samples_leaf=1,\n",
              "                                              min_samples_split=2,\n",
              "                                              min_weight_fraction_leaf=0.0,\n",
              "                                              n_estimators=100, n_jobs=None,\n",
              "                                              oob_score=False...\n",
              "              search_spaces={'max_depth': Integer(low=5, high=50, prior='uniform', transform='normalize'),\n",
              "                             'max_features': Integer(low=1, high=13, prior='uniform', transform='normalize'),\n",
              "                             'min_samples_leaf': Integer(low=1, high=11, prior='uniform', transform='normalize'),\n",
              "                             'min_samples_split': Integer(low=2, high=11, prior='uniform', transform='normalize'),\n",
              "                             'n_estimators': Integer(low=10, high=100, prior='uniform', transform='normalize')},\n",
              "              verbose=2)"
            ]
          },
          "metadata": {},
          "execution_count": 138
        }
      ]
    },
    {
      "cell_type": "code",
      "metadata": {
        "colab": {
          "base_uri": "https://localhost:8080/"
        },
        "id": "-CfiG_KvXJkN",
        "outputId": "81968171-9bc1-4c26-b9a4-441fa30ea031"
      },
      "source": [
        "Bayes.best_estimator_"
      ],
      "execution_count": 139,
      "outputs": [
        {
          "output_type": "execute_result",
          "data": {
            "text/plain": [
              "RandomForestRegressor(bootstrap=True, ccp_alpha=0.0, criterion='mse',\n",
              "                      max_depth=50, max_features=11, max_leaf_nodes=None,\n",
              "                      max_samples=None, min_impurity_decrease=0.0,\n",
              "                      min_impurity_split=None, min_samples_leaf=1,\n",
              "                      min_samples_split=11, min_weight_fraction_leaf=0.0,\n",
              "                      n_estimators=53, n_jobs=None, oob_score=False,\n",
              "                      random_state=42, verbose=0, warm_start=False)"
            ]
          },
          "metadata": {},
          "execution_count": 139
        }
      ]
    },
    {
      "cell_type": "code",
      "metadata": {
        "colab": {
          "base_uri": "https://localhost:8080/"
        },
        "id": "uGIW-ZCQXjt4",
        "outputId": "cac4f05a-71ee-4942-852c-266567db76ec"
      },
      "source": [
        "model_PM25_rf = RandomForestRegressor(bootstrap=True, ccp_alpha=0.0, criterion='mse',\n",
        "                      max_depth=50, max_features=11, max_leaf_nodes=None,\n",
        "                      max_samples=None, min_impurity_decrease=0.0,\n",
        "                      min_impurity_split=None, min_samples_leaf=1,\n",
        "                      min_samples_split=11, min_weight_fraction_leaf=0.0,\n",
        "                      n_estimators=53, n_jobs=None, oob_score=False,\n",
        "                      random_state=42, verbose=0, warm_start=False)\n",
        "\n",
        "model_PM25_rf.fit(PM25_train_X, PM25_train_y)"
      ],
      "execution_count": 140,
      "outputs": [
        {
          "output_type": "execute_result",
          "data": {
            "text/plain": [
              "RandomForestRegressor(bootstrap=True, ccp_alpha=0.0, criterion='mse',\n",
              "                      max_depth=50, max_features=11, max_leaf_nodes=None,\n",
              "                      max_samples=None, min_impurity_decrease=0.0,\n",
              "                      min_impurity_split=None, min_samples_leaf=1,\n",
              "                      min_samples_split=11, min_weight_fraction_leaf=0.0,\n",
              "                      n_estimators=53, n_jobs=None, oob_score=False,\n",
              "                      random_state=42, verbose=0, warm_start=False)"
            ]
          },
          "metadata": {},
          "execution_count": 140
        }
      ]
    },
    {
      "cell_type": "code",
      "metadata": {
        "colab": {
          "base_uri": "https://localhost:8080/"
        },
        "id": "2VH3JAbbXjqj",
        "outputId": "74f9745d-3f76-4bcf-f278-9d97944f8914"
      },
      "source": [
        "yhat=model_PM25_rf.predict(PM25_test_X)\n",
        "yhat = np.repeat(yhat.reshape(-1,1), 11, axis=-1)\n",
        "inv_yhat = scaler.inverse_transform(yhat)[:,4]\n",
        "\n",
        "# invert scaling for actual values\n",
        "y_actual=PM25_test_y.reshape(len(PM25_test_y),1)\n",
        "y = np.repeat(y_actual, 11, axis=-1)\n",
        "inv_y=scaler.inverse_transform(y)[:,4]\n",
        "\n",
        "#Model Evaluation - 8 new set\n",
        "rmse, mae, mape,r2=model_evaluation(inv_y,inv_yhat)\n",
        "print('Test RMSE: %.3f' % rmse)\n",
        "print('Test MAE: %.3f' % mae)\n",
        "print('Test MAPE: %.3f' % mape)\n",
        "print('Test R2: %.3f' % r2)"
      ],
      "execution_count": 141,
      "outputs": [
        {
          "output_type": "stream",
          "name": "stdout",
          "text": [
            "Test RMSE: 4.671\n",
            "Test MAE: 2.843\n",
            "Test MAPE: 284.335\n",
            "Test R2: 0.433\n"
          ]
        }
      ]
    },
    {
      "cell_type": "code",
      "metadata": {
        "colab": {
          "base_uri": "https://localhost:8080/"
        },
        "id": "6zvhj2NSXjd9",
        "outputId": "bf4618d3-9572-4ef0-8a10-032e00060789"
      },
      "source": [
        "gbr = GradientBoostingRegressor(n_estimators = 200, learning_rate = 0.1, loss = \"huber\", \n",
        "                                random_state = 42, n_iter_no_change = 20)\n",
        "\n",
        "gbr.fit(PM25_train_X, PM25_train_y)"
      ],
      "execution_count": 142,
      "outputs": [
        {
          "output_type": "execute_result",
          "data": {
            "text/plain": [
              "GradientBoostingRegressor(alpha=0.9, ccp_alpha=0.0, criterion='friedman_mse',\n",
              "                          init=None, learning_rate=0.1, loss='huber',\n",
              "                          max_depth=3, max_features=None, max_leaf_nodes=None,\n",
              "                          min_impurity_decrease=0.0, min_impurity_split=None,\n",
              "                          min_samples_leaf=1, min_samples_split=2,\n",
              "                          min_weight_fraction_leaf=0.0, n_estimators=200,\n",
              "                          n_iter_no_change=20, presort='deprecated',\n",
              "                          random_state=42, subsample=1.0, tol=0.0001,\n",
              "                          validation_fraction=0.1, verbose=0, warm_start=False)"
            ]
          },
          "metadata": {},
          "execution_count": 142
        }
      ]
    },
    {
      "cell_type": "code",
      "metadata": {
        "colab": {
          "base_uri": "https://localhost:8080/"
        },
        "id": "Paz5LQf6e8im",
        "outputId": "ed38be3f-e3ff-469d-8b13-23298c576ad5"
      },
      "source": [
        "yhat=gbr.predict(PM25_test_X)\n",
        "yhat = np.repeat(yhat.reshape(-1,1), 11, axis=-1)\n",
        "inv_yhat = scaler.inverse_transform(yhat)[:,4]\n",
        "\n",
        "# invert scaling for actual values\n",
        "y_actual=PM25_test_y.reshape(len(PM25_test_y),1)\n",
        "y = np.repeat(y_actual, 11, axis=-1)\n",
        "inv_y=scaler.inverse_transform(y)[:,4]\n",
        "\n",
        "#Model Evaluation - 8 new set\n",
        "rmse, mae, mape,r2=model_evaluation(inv_y,inv_yhat)\n",
        "print('Test RMSE: %.3f' % rmse)\n",
        "print('Test MAE: %.3f' % mae)\n",
        "print('Test MAPE: %.3f' % mape)\n",
        "print('Test R2: %.3f' % r2)"
      ],
      "execution_count": 143,
      "outputs": [
        {
          "output_type": "stream",
          "name": "stdout",
          "text": [
            "Test RMSE: 4.231\n",
            "Test MAE: 2.502\n",
            "Test MAPE: 250.181\n",
            "Test R2: 0.535\n"
          ]
        }
      ]
    },
    {
      "cell_type": "markdown",
      "metadata": {
        "id": "sn8fJ3UFgAoH"
      },
      "source": [
        "**Ensemble Voting - Best model PM 2.5**"
      ]
    },
    {
      "cell_type": "code",
      "metadata": {
        "colab": {
          "base_uri": "https://localhost:8080/"
        },
        "id": "SWpU9LTKgARJ",
        "outputId": "5439d349-09f7-4b0b-b547-e2a1145d219f"
      },
      "source": [
        "r1=RandomForestRegressor(bootstrap=True, ccp_alpha=0.0, criterion='mse',\n",
        "                      max_depth=50, max_features=11, max_leaf_nodes=None,\n",
        "                      max_samples=None, min_impurity_decrease=0.0,\n",
        "                      min_impurity_split=None, min_samples_leaf=1,\n",
        "                      min_samples_split=11, min_weight_fraction_leaf=0.0,\n",
        "                      n_estimators=53, n_jobs=None, oob_score=False,\n",
        "                      random_state=42, verbose=0, warm_start=False)\n",
        "\n",
        "r2=GradientBoostingRegressor(n_estimators = 200, learning_rate = 0.1, loss = \"huber\", \n",
        "                                random_state = 42, n_iter_no_change = 20)\n",
        "\n",
        "\n",
        "vr = VotingRegressor([('rf', r1), ('gb', r2)],weights =[1,5])\n",
        "\n",
        "vr.fit(PM25_train_X, PM25_train_y)"
      ],
      "execution_count": 156,
      "outputs": [
        {
          "output_type": "execute_result",
          "data": {
            "text/plain": [
              "VotingRegressor(estimators=[('rf',\n",
              "                             RandomForestRegressor(bootstrap=True,\n",
              "                                                   ccp_alpha=0.0,\n",
              "                                                   criterion='mse',\n",
              "                                                   max_depth=50,\n",
              "                                                   max_features=11,\n",
              "                                                   max_leaf_nodes=None,\n",
              "                                                   max_samples=None,\n",
              "                                                   min_impurity_decrease=0.0,\n",
              "                                                   min_impurity_split=None,\n",
              "                                                   min_samples_leaf=1,\n",
              "                                                   min_samples_split=11,\n",
              "                                                   min_weight_fraction_leaf=0.0,\n",
              "                                                   n_estimators=53, n_jobs=None,\n",
              "                                                   oob_score=False,\n",
              "                                                   random_state=42, verb...\n",
              "                                                       loss='huber',\n",
              "                                                       max_depth=3,\n",
              "                                                       max_features=None,\n",
              "                                                       max_leaf_nodes=None,\n",
              "                                                       min_impurity_decrease=0.0,\n",
              "                                                       min_impurity_split=None,\n",
              "                                                       min_samples_leaf=1,\n",
              "                                                       min_samples_split=2,\n",
              "                                                       min_weight_fraction_leaf=0.0,\n",
              "                                                       n_estimators=200,\n",
              "                                                       n_iter_no_change=20,\n",
              "                                                       presort='deprecated',\n",
              "                                                       random_state=42,\n",
              "                                                       subsample=1.0,\n",
              "                                                       tol=0.0001,\n",
              "                                                       validation_fraction=0.1,\n",
              "                                                       verbose=0,\n",
              "                                                       warm_start=False))],\n",
              "                n_jobs=None, weights=[1, 5])"
            ]
          },
          "metadata": {},
          "execution_count": 156
        }
      ]
    },
    {
      "cell_type": "code",
      "metadata": {
        "colab": {
          "base_uri": "https://localhost:8080/"
        },
        "id": "0Y9z6CrXf_-3",
        "outputId": "b3735263-a4c7-4748-8ef0-0ed6a7c879aa"
      },
      "source": [
        "yhat=vr.predict(PM25_test_X)\n",
        "yhat = np.repeat(yhat.reshape(-1,1), 11, axis=-1)\n",
        "inv_yhat = scaler.inverse_transform(yhat)[:,4]\n",
        "\n",
        "# invert scaling for actual values\n",
        "y_actual=PM25_test_y.reshape(len(PM25_test_y),1)\n",
        "y = np.repeat(y_actual, 11, axis=-1)\n",
        "inv_y=scaler.inverse_transform(y)[:,4]\n",
        "\n",
        "#Model Evaluation - 8 new set\n",
        "rmse, mae, mape,r2=model_evaluation(inv_y,inv_yhat)\n",
        "print('Test RMSE: %.3f' % rmse)\n",
        "print('Test MAE: %.3f' % mae)\n",
        "print('Test MAPE: %.3f' % mape)\n",
        "print('Test R2: %.3f' % r2)"
      ],
      "execution_count": 158,
      "outputs": [
        {
          "output_type": "stream",
          "name": "stdout",
          "text": [
            "Test RMSE: 4.208\n",
            "Test MAE: 2.503\n",
            "Test MAPE: 250.259\n",
            "Test R2: 0.540\n"
          ]
        }
      ]
    },
    {
      "cell_type": "code",
      "metadata": {
        "id": "OSwcvvdGh3Az"
      },
      "source": [
        ""
      ],
      "execution_count": null,
      "outputs": []
    }
  ]
}