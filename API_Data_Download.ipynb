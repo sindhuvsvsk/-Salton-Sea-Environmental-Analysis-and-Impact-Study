{
 "cells": [
  {
   "cell_type": "code",
   "execution_count": 46,
   "metadata": {},
   "outputs": [],
   "source": [
    "import requests\n",
    "import json\n",
    "\n",
    "import pandas as pd\n",
    "import numpy as np\n",
    "import aqi\n",
    "\n",
    "from pandas import concat\n",
    "import pickle\n",
    "\n",
    "import tensorflow as tf\n",
    "from tensorflow import keras\n",
    "\n",
    "from datetime import datetime, time, timedelta,date\n",
    "import time as t"
   ]
  },
  {
   "cell_type": "code",
   "execution_count": 67,
   "metadata": {},
   "outputs": [],
   "source": [
    "import sklearn as sk"
   ]
  },
  {
   "cell_type": "code",
   "execution_count": 68,
   "metadata": {},
   "outputs": [
    {
     "data": {
      "text/plain": [
       "'1.0.1'"
      ]
     },
     "execution_count": 68,
     "metadata": {},
     "output_type": "execute_result"
    }
   ],
   "source": [
    "sk.__version__"
   ]
  },
  {
   "cell_type": "code",
   "execution_count": 2,
   "metadata": {},
   "outputs": [],
   "source": [
    "#Modify these functions as we dont need just single row with lag features and no y value.\n",
    "\n",
    "def series_to_supervised(data, n_in=1, n_out=1, dropnan=True):\n",
    "    n_vars = 1 if type(data) is list else data.shape[1]\n",
    "    df = pd.DataFrame(data)\n",
    "    cols, names = list(), list()\n",
    "    # input sequence (t-n, ... t-1)\n",
    "    for i in range(n_in, 0, -1):\n",
    "        cols.append(df.shift(i))\n",
    "        names += [('var%d(t-%d)' % (j+1, i)) for j in range(n_vars)]\n",
    "    # forecast sequence (t, t+1, ... t+n)\n",
    "    for i in range(0, n_out):\n",
    "        cols.append(df.shift(-i))\n",
    "        if i == 0:\n",
    "            names += [('var%d(t)' % (j+1)) for j in range(n_vars)]\n",
    "        else:\n",
    "            names += [('var%d(t+%d)' % (j+1, i)) for j in range(n_vars)]\n",
    "    # put it all together\n",
    "    agg = concat(cols, axis=1)\n",
    "    agg.columns = names\n",
    "    # drop rows with NaN values\n",
    "    if dropnan:\n",
    "        agg.dropna(inplace=True)\n",
    "    return agg\n",
    "\n",
    "def data_split(data,n_hours,n_features,reshape):\n",
    "    values = data.values\n",
    "    n_obs = n_hours * n_features\n",
    "    QA_X, QA_y = values[:, :n_obs], values[:, -n_features]\n",
    "    if reshape=='yes':\n",
    "        QA_X  = QA_X.reshape((QA_X.shape[0], n_hours, n_features))\n",
    "    \n",
    "    return QA_X "
   ]
  },
  {
   "cell_type": "code",
   "execution_count": 3,
   "metadata": {},
   "outputs": [],
   "source": [
    "def AQI_cal(value,pollutant):\n",
    "    \n",
    "    if value <0:\n",
    "        value=0\n",
    "    \n",
    "    if pollutant=='CO':\n",
    "        if value <=50:\n",
    "            maqi=aqi.to_iaqi(aqi.POLLUTANT_CO_8H, value, algo=aqi.ALGO_EPA)\n",
    "        else :\n",
    "            maqi=500\n",
    "\n",
    "    elif pollutant=='OZONE':\n",
    "        maqi= aqi.to_iaqi(aqi.POLLUTANT_O3_8H, value, algo=aqi.ALGO_EPA)\n",
    "        \n",
    "    elif pollutant=='PM25':\n",
    "        if value <=500:\n",
    "            maqi= aqi.to_iaqi(aqi.POLLUTANT_PM25, value, algo=aqi.ALGO_EPA)\n",
    "        else:\n",
    "            maqi=500\n",
    "        \n",
    "    elif pollutant=='PM10':\n",
    "        if value <=600:\n",
    "            maqi= aqi.to_iaqi(aqi.POLLUTANT_PM10, value, algo=aqi.ALGO_EPA)\n",
    "        else:\n",
    "            maqi=600\n",
    "        \n",
    "    return maqi"
   ]
  },
  {
   "cell_type": "code",
   "execution_count": 4,
   "metadata": {},
   "outputs": [],
   "source": [
    "def AQI_level(value):\n",
    "    if value <= 50:\n",
    "        return \"Good\"\n",
    "    elif value <= 100:\n",
    "        return \"Moderate\"\n",
    "    elif value <= 150:\n",
    "        return \"UnHealthy for Sensitive Groups\"\n",
    "    elif value <= 200:\n",
    "        return \"UnHealthy\"\n",
    "    elif value <= 300:\n",
    "        return \"Very UnHealthy\"\n",
    "    elif value > 300:\n",
    "        return \"Hazardous\"\n",
    "    else:\n",
    "        return np.NaN"
   ]
  },
  {
   "cell_type": "code",
   "execution_count": 5,
   "metadata": {},
   "outputs": [],
   "source": [
    "#prepare data for models\n",
    "#Load scaler\n",
    "scaler=pickle.load(open('scaler.pkl', 'rb'))"
   ]
  },
  {
   "cell_type": "code",
   "execution_count": 6,
   "metadata": {},
   "outputs": [],
   "source": [
    "Weather_API_KEY='7872c767e8eaf7d60f3ff0970f218a4e'"
   ]
  },
  {
   "cell_type": "code",
   "execution_count": 7,
   "metadata": {},
   "outputs": [],
   "source": [
    "#ret=requests.get('http://api.openweathermap.org/data/2.5/weather?q=San Jose,us&units=imperial&APPID=7872c767e8eaf7d60f3ff0970f218a4e')\n",
    "\n",
    "#ret=requests.get('https://api.openweathermap.org/data/2.5/onecall?lat=33.44&lon=-94.04&units=imperial&exclude=hourly,daily,minutely,alerts&APPID=7872c767e8eaf7d60f3ff0970f218a4e')"
   ]
  },
  {
   "cell_type": "code",
   "execution_count": 8,
   "metadata": {},
   "outputs": [],
   "source": [
    "def get_today_unix(dt_in): #function to get unix time for local time\n",
    "    unix_dt=int(t.mktime(dt_in.timetuple()))\n",
    "    return unix_dt    "
   ]
  },
  {
   "cell_type": "code",
   "execution_count": 9,
   "metadata": {},
   "outputs": [],
   "source": [
    "#import datetime\n",
    "def change_date(dt):\n",
    "    return(datetime.fromtimestamp(int(dt)).strftime('%Y-%m-%d %H:%M:%S'))"
   ]
  },
  {
   "cell_type": "code",
   "execution_count": 10,
   "metadata": {},
   "outputs": [],
   "source": [
    "def weather_api_call(lat,long,dt,key):\n",
    "    return requests.get(f'https://api.openweathermap.org/data/2.5/onecall/timemachine?lat={lat}&lon={long}&units=imperial&dt={dt}&appid={key}')"
   ]
  },
  {
   "cell_type": "code",
   "execution_count": 11,
   "metadata": {},
   "outputs": [],
   "source": [
    "lat=33.298600#33.44\n",
    "long=-115.956100#-94.04"
   ]
  },
  {
   "cell_type": "code",
   "execution_count": 12,
   "metadata": {},
   "outputs": [
    {
     "data": {
      "text/plain": [
       "datetime.date(2021, 11, 17)"
      ]
     },
     "execution_count": 12,
     "metadata": {},
     "output_type": "execute_result"
    }
   ],
   "source": [
    "date.today()"
   ]
  },
  {
   "cell_type": "code",
   "execution_count": 13,
   "metadata": {},
   "outputs": [],
   "source": [
    "#Barometric_Pressure \tDewpoint \tRelative_Humidity \tTemperature \tWind_Speed"
   ]
  },
  {
   "cell_type": "code",
   "execution_count": 14,
   "metadata": {},
   "outputs": [
    {
     "name": "stdout",
     "output_type": "stream",
     "text": [
      "else\n",
      "1637136000\n"
     ]
    },
    {
     "data": {
      "text/html": [
       "<div>\n",
       "<style scoped>\n",
       "    .dataframe tbody tr th:only-of-type {\n",
       "        vertical-align: middle;\n",
       "    }\n",
       "\n",
       "    .dataframe tbody tr th {\n",
       "        vertical-align: top;\n",
       "    }\n",
       "\n",
       "    .dataframe thead th {\n",
       "        text-align: right;\n",
       "    }\n",
       "</style>\n",
       "<table border=\"1\" class=\"dataframe\">\n",
       "  <thead>\n",
       "    <tr style=\"text-align: right;\">\n",
       "      <th></th>\n",
       "      <th>date</th>\n",
       "      <th>Barometric_Pressure</th>\n",
       "      <th>Dewpoint</th>\n",
       "      <th>Relative_Humidity</th>\n",
       "      <th>Temperature</th>\n",
       "      <th>Wind_Speed</th>\n",
       "    </tr>\n",
       "  </thead>\n",
       "  <tbody>\n",
       "    <tr>\n",
       "      <th>15</th>\n",
       "      <td>2021-11-17 07:00:00</td>\n",
       "      <td>1014</td>\n",
       "      <td>26.58</td>\n",
       "      <td>28</td>\n",
       "      <td>58.89</td>\n",
       "      <td>1.79</td>\n",
       "    </tr>\n",
       "    <tr>\n",
       "      <th>16</th>\n",
       "      <td>2021-11-17 08:00:00</td>\n",
       "      <td>1014</td>\n",
       "      <td>35.02</td>\n",
       "      <td>25</td>\n",
       "      <td>72.86</td>\n",
       "      <td>1.07</td>\n",
       "    </tr>\n",
       "    <tr>\n",
       "      <th>17</th>\n",
       "      <td>2021-11-17 09:00:00</td>\n",
       "      <td>1015</td>\n",
       "      <td>55.99</td>\n",
       "      <td>55</td>\n",
       "      <td>73.11</td>\n",
       "      <td>0.83</td>\n",
       "    </tr>\n",
       "    <tr>\n",
       "      <th>18</th>\n",
       "      <td>2021-11-17 10:00:00</td>\n",
       "      <td>1015</td>\n",
       "      <td>53.11</td>\n",
       "      <td>43</td>\n",
       "      <td>77.32</td>\n",
       "      <td>2.46</td>\n",
       "    </tr>\n",
       "    <tr>\n",
       "      <th>19</th>\n",
       "      <td>2021-11-17 11:00:00</td>\n",
       "      <td>1015</td>\n",
       "      <td>57.18</td>\n",
       "      <td>46</td>\n",
       "      <td>79.79</td>\n",
       "      <td>2.77</td>\n",
       "    </tr>\n",
       "  </tbody>\n",
       "</table>\n",
       "</div>"
      ],
      "text/plain": [
       "                  date  Barometric_Pressure  Dewpoint  Relative_Humidity  \\\n",
       "15 2021-11-17 07:00:00                 1014     26.58                 28   \n",
       "16 2021-11-17 08:00:00                 1014     35.02                 25   \n",
       "17 2021-11-17 09:00:00                 1015     55.99                 55   \n",
       "18 2021-11-17 10:00:00                 1015     53.11                 43   \n",
       "19 2021-11-17 11:00:00                 1015     57.18                 46   \n",
       "\n",
       "    Temperature  Wind_Speed  \n",
       "15        58.89        1.79  \n",
       "16        72.86        1.07  \n",
       "17        73.11        0.83  \n",
       "18        77.32        2.46  \n",
       "19        79.79        2.77  "
      ]
     },
     "execution_count": 14,
     "metadata": {},
     "output_type": "execute_result"
    }
   ],
   "source": [
    "#Code to Get previous 5 hours of weather data\n",
    "if time(17,0) <= datetime.now().time() < time(21,0):\n",
    "    print(\"Hello There\")\n",
    "    #call twice by using cuurent time and time of previous date.\n",
    "    \n",
    "    dt1=get_today_unix(datetime.combine(date.today(), datetime.min.time())) #previous utc day\n",
    "    \n",
    "    hist_resp1=weather_api_call(lat,long,dt1,Weather_API_KEY)\n",
    "    main_list=[]\n",
    "    for i in hist_resp1.json()['hourly']:\n",
    "        main_list.append([i['dt'],i['pressure'],i['dew_point'],i['humidity'],i['temp'],i['wind_speed']])\n",
    "\n",
    "    dt2=get_today_unix(date.today()) #new UTC day\n",
    "    \n",
    "    #hist_resp2=requests.get(f'https://api.openweathermap.org/data/2.5/onecall/timemachine?lat=33.44&lon=-94.04&units=imperial&dt={dt2}&appid={Weather_API_KEY}') \n",
    "    hist_resp2=weather_api_call(lat,long,dt2,Weather_API_KEY)\n",
    "    for i in hist_resp2.json()['hourly']:\n",
    "        main_list.append([i['dt'],i['pressure'],i['dew_point'],i['humidity'],i['temp'],i['wind_speed']])\n",
    "    \n",
    "    df=pd.DataFrame(main_list,columns=['date','Barometric_Pressure','Dewpoint','Relative_Humidity','Temperature','Wind_Speed'])\n",
    "\n",
    "    df['date']=df.date.apply(change_date)\n",
    "    \n",
    "elif time(21,0) <= datetime.now().time() < time(23,59):\n",
    "    print(\"Hello\")\n",
    "    \n",
    "    dt_in=datetime.today().replace(hour=17, minute=0, second=0, microsecond=0)\n",
    "    dt=get_today_unix(dt_in)\n",
    "    print(dt)      \n",
    "    \n",
    "    hist_resp=weather_api_call(lat,long,dt,Weather_API_KEY)\n",
    "    main_list=[]\n",
    "    for i in hist_resp.json()['hourly']:\n",
    "        main_list.append([i['dt'],i['pressure'],i['dew_point'],i['humidity'],i['temp'],i['wind_speed']])\n",
    "\n",
    "    df=pd.DataFrame(main_list,columns=['date','Barometric_Pressure','Dewpoint','Relative_Humidity','Temperature','Wind_Speed'])\n",
    "\n",
    "    df['date']=df.date.apply(change_date)\n",
    "\n",
    "else:\n",
    "    print(\"else\")\n",
    "    \n",
    "    dt=get_today_unix(date.today())\n",
    "    print(dt)\n",
    "    \n",
    "    hist_resp=weather_api_call(lat,long,dt,Weather_API_KEY)\n",
    "    \n",
    "    main_list=[]\n",
    "    for i in hist_resp.json()['hourly']:\n",
    "        main_list.append([i['dt'],i['pressure'],i['dew_point'],i['humidity'],i['temp'],i['wind_speed']])\n",
    "\n",
    "    df=pd.DataFrame(main_list,columns=['date','Barometric_Pressure','Dewpoint','Relative_Humidity','Temperature','Wind_Speed'])\n",
    "\n",
    "    df['date']=df.date.apply(change_date)\n",
    "    \n",
    "    \n",
    "    \n",
    "df['date'] = pd.to_datetime(df['date'])\n",
    "df.sort_values(by=['date'],inplace=True)\n",
    "df.tail(5)"
   ]
  },
  {
   "cell_type": "code",
   "execution_count": 15,
   "metadata": {},
   "outputs": [
    {
     "data": {
      "text/plain": [
       "{'coord': {'lon': -115.9561, 'lat': 33.2986},\n",
       " 'list': [{'main': {'aqi': 4},\n",
       "   'components': {'co': 280.38,\n",
       "    'no': 0.95,\n",
       "    'no2': 4.93,\n",
       "    'o3': 86.55,\n",
       "    'so2': 0.22,\n",
       "    'pm2_5': 28.22,\n",
       "    'pm10': 60.37,\n",
       "    'nh3': 19},\n",
       "   'dt': 1637179200}]}"
      ]
     },
     "execution_count": 15,
     "metadata": {},
     "output_type": "execute_result"
    }
   ],
   "source": [
    "gt=requests.get(f'http://api.openweathermap.org/data/2.5/air_pollution?lat={lat}&lon={long}&appid={Weather_API_KEY}')\n",
    "\n",
    "#gt=requests.get(f'http://api.openweathermap.org/data/2.5/air_pollution/history?lat={lat}&lon={long}&start={1636228800}&appid={Weather_API_KEY}')\n",
    "gt.json()"
   ]
  },
  {
   "cell_type": "code",
   "execution_count": 16,
   "metadata": {},
   "outputs": [],
   "source": [
    "#Functions to change units of wind speed to knots\n",
    "def wind_speed_change(wind_in):\n",
    "    return (wind_in*0.868976)"
   ]
  },
  {
   "cell_type": "code",
   "execution_count": 17,
   "metadata": {},
   "outputs": [],
   "source": [
    "df['Wind_Speed']=df.Wind_Speed.apply(wind_speed_change)"
   ]
  },
  {
   "cell_type": "code",
   "execution_count": 18,
   "metadata": {},
   "outputs": [
    {
     "data": {
      "text/html": [
       "<div>\n",
       "<style scoped>\n",
       "    .dataframe tbody tr th:only-of-type {\n",
       "        vertical-align: middle;\n",
       "    }\n",
       "\n",
       "    .dataframe tbody tr th {\n",
       "        vertical-align: top;\n",
       "    }\n",
       "\n",
       "    .dataframe thead th {\n",
       "        text-align: right;\n",
       "    }\n",
       "</style>\n",
       "<table border=\"1\" class=\"dataframe\">\n",
       "  <thead>\n",
       "    <tr style=\"text-align: right;\">\n",
       "      <th></th>\n",
       "      <th>date</th>\n",
       "      <th>Barometric_Pressure</th>\n",
       "      <th>Dewpoint</th>\n",
       "      <th>Relative_Humidity</th>\n",
       "      <th>Temperature</th>\n",
       "      <th>Wind_Speed</th>\n",
       "    </tr>\n",
       "  </thead>\n",
       "  <tbody>\n",
       "    <tr>\n",
       "      <th>15</th>\n",
       "      <td>2021-11-17 07:00:00</td>\n",
       "      <td>1014</td>\n",
       "      <td>26.58</td>\n",
       "      <td>28</td>\n",
       "      <td>58.89</td>\n",
       "      <td>1.555467</td>\n",
       "    </tr>\n",
       "    <tr>\n",
       "      <th>16</th>\n",
       "      <td>2021-11-17 08:00:00</td>\n",
       "      <td>1014</td>\n",
       "      <td>35.02</td>\n",
       "      <td>25</td>\n",
       "      <td>72.86</td>\n",
       "      <td>0.929804</td>\n",
       "    </tr>\n",
       "    <tr>\n",
       "      <th>17</th>\n",
       "      <td>2021-11-17 09:00:00</td>\n",
       "      <td>1015</td>\n",
       "      <td>55.99</td>\n",
       "      <td>55</td>\n",
       "      <td>73.11</td>\n",
       "      <td>0.721250</td>\n",
       "    </tr>\n",
       "    <tr>\n",
       "      <th>18</th>\n",
       "      <td>2021-11-17 10:00:00</td>\n",
       "      <td>1015</td>\n",
       "      <td>53.11</td>\n",
       "      <td>43</td>\n",
       "      <td>77.32</td>\n",
       "      <td>2.137681</td>\n",
       "    </tr>\n",
       "    <tr>\n",
       "      <th>19</th>\n",
       "      <td>2021-11-17 11:00:00</td>\n",
       "      <td>1015</td>\n",
       "      <td>57.18</td>\n",
       "      <td>46</td>\n",
       "      <td>79.79</td>\n",
       "      <td>2.407064</td>\n",
       "    </tr>\n",
       "  </tbody>\n",
       "</table>\n",
       "</div>"
      ],
      "text/plain": [
       "                  date  Barometric_Pressure  Dewpoint  Relative_Humidity  \\\n",
       "15 2021-11-17 07:00:00                 1014     26.58                 28   \n",
       "16 2021-11-17 08:00:00                 1014     35.02                 25   \n",
       "17 2021-11-17 09:00:00                 1015     55.99                 55   \n",
       "18 2021-11-17 10:00:00                 1015     53.11                 43   \n",
       "19 2021-11-17 11:00:00                 1015     57.18                 46   \n",
       "\n",
       "    Temperature  Wind_Speed  \n",
       "15        58.89    1.555467  \n",
       "16        72.86    0.929804  \n",
       "17        73.11    0.721250  \n",
       "18        77.32    2.137681  \n",
       "19        79.79    2.407064  "
      ]
     },
     "execution_count": 18,
     "metadata": {},
     "output_type": "execute_result"
    }
   ],
   "source": [
    "df.tail(5)"
   ]
  },
  {
   "cell_type": "markdown",
   "metadata": {},
   "source": [
    "### Air Quality Data Download"
   ]
  },
  {
   "cell_type": "code",
   "execution_count": 19,
   "metadata": {},
   "outputs": [
    {
     "data": {
      "text/plain": [
       "datetime.datetime(2021, 11, 17, 7, 0)"
      ]
     },
     "execution_count": 19,
     "metadata": {},
     "output_type": "execute_result"
    }
   ],
   "source": [
    "hours = 5\n",
    "current_date_and_time = datetime.today().replace( minute=0, second=0, microsecond=0) #datetime.now()\n",
    "\n",
    "hours_added = timedelta(hours = hours)\n",
    "\n",
    "start_hour = current_date_and_time - hours_added\n",
    "\n",
    "start_hour"
   ]
  },
  {
   "cell_type": "code",
   "execution_count": 20,
   "metadata": {},
   "outputs": [],
   "source": [
    "start_time=get_today_unix(start_hour)"
   ]
  },
  {
   "cell_type": "code",
   "execution_count": 21,
   "metadata": {},
   "outputs": [],
   "source": [
    "end_hour=datetime.today().replace( minute=0, second=0, microsecond=0)\n",
    "end_time=get_today_unix(end_hour)"
   ]
  },
  {
   "cell_type": "code",
   "execution_count": 22,
   "metadata": {},
   "outputs": [],
   "source": [
    "req2=requests.get(f'http://api.openweathermap.org/data/2.5/air_pollution/history?lat={lat}&lon={long}&start={start_time}&end={end_time}&appid={Weather_API_KEY}')"
   ]
  },
  {
   "cell_type": "code",
   "execution_count": 23,
   "metadata": {},
   "outputs": [
    {
     "data": {
      "text/plain": [
       "<Response [200]>"
      ]
     },
     "execution_count": 23,
     "metadata": {},
     "output_type": "execute_result"
    }
   ],
   "source": [
    "req2"
   ]
  },
  {
   "cell_type": "code",
   "execution_count": 24,
   "metadata": {},
   "outputs": [
    {
     "name": "stdout",
     "output_type": "stream",
     "text": [
      "{'co': 277.04, 'no': 0.01, 'no2': 6.34, 'o3': 46.49, 'so2': 0.22, 'pm2_5': 16.22, 'pm10': 37.72, 'nh3': 11.4} 1637161200\n",
      "{'co': 277.04, 'no': 0.37, 'no2': 6.94, 'o3': 45.78, 'so2': 0.2, 'pm2_5': 17.14, 'pm10': 41.44, 'nh3': 13.05} 1637164800\n",
      "{'co': 280.38, 'no': 1.24, 'no2': 6.77, 'o3': 48.64, 'so2': 0.2, 'pm2_5': 18.73, 'pm10': 47.27, 'nh3': 16.97} 1637168400\n",
      "{'co': 280.38, 'no': 1.72, 'no2': 6.51, 'o3': 55.08, 'so2': 0.19, 'pm2_5': 21.69, 'pm10': 53.97, 'nh3': 20.52} 1637172000\n",
      "{'co': 283.72, 'no': 1.52, 'no2': 6, 'o3': 66.52, 'so2': 0.18, 'pm2_5': 24.98, 'pm10': 59.09, 'nh3': 21.28} 1637175600\n",
      "{'co': 280.38, 'no': 0.95, 'no2': 4.93, 'o3': 86.55, 'so2': 0.22, 'pm2_5': 28.22, 'pm10': 60.37, 'nh3': 19} 1637179200\n"
     ]
    }
   ],
   "source": [
    "air_list=[]\n",
    "for i in (req2.json()['list']):\n",
    "    print(i['components'],i['dt'])\n",
    "    air_list.append([i['dt'],i['components']['co'],i['components']['no2'],i['components']['o3'],i['components']['pm10'],i['components']['pm2_5'],i['components']['so2']])"
   ]
  },
  {
   "cell_type": "code",
   "execution_count": 25,
   "metadata": {},
   "outputs": [],
   "source": [
    "df_air=pd.DataFrame(air_list,columns=['date','CO','NO2','OZONE','PM10','PM25','SO2'])\n",
    "\n",
    "df_air['date']=df_air.date.apply(change_date)"
   ]
  },
  {
   "cell_type": "code",
   "execution_count": 26,
   "metadata": {},
   "outputs": [],
   "source": [
    "df_air['date'] = pd.to_datetime(df_air['date'])\n",
    "df_air.sort_values(by=['date'],inplace=True)"
   ]
  },
  {
   "cell_type": "code",
   "execution_count": 27,
   "metadata": {},
   "outputs": [],
   "source": [
    "#change unit to ppm\n",
    "def ppm_unit(poll_in):\n",
    "    return (0.001*poll_in)"
   ]
  },
  {
   "cell_type": "code",
   "execution_count": 28,
   "metadata": {},
   "outputs": [],
   "source": [
    "df_air['CO']=df_air['CO'].apply(ppm_unit)\n",
    "df_air['NO2']=df_air['NO2'].apply(ppm_unit)\n",
    "df_air['OZONE']=df_air['OZONE'].apply(ppm_unit)\n",
    "df_air['SO2']=df_air['SO2'].apply(ppm_unit)"
   ]
  },
  {
   "cell_type": "code",
   "execution_count": 29,
   "metadata": {},
   "outputs": [
    {
     "data": {
      "text/html": [
       "<div>\n",
       "<style scoped>\n",
       "    .dataframe tbody tr th:only-of-type {\n",
       "        vertical-align: middle;\n",
       "    }\n",
       "\n",
       "    .dataframe tbody tr th {\n",
       "        vertical-align: top;\n",
       "    }\n",
       "\n",
       "    .dataframe thead th {\n",
       "        text-align: right;\n",
       "    }\n",
       "</style>\n",
       "<table border=\"1\" class=\"dataframe\">\n",
       "  <thead>\n",
       "    <tr style=\"text-align: right;\">\n",
       "      <th></th>\n",
       "      <th>date</th>\n",
       "      <th>CO</th>\n",
       "      <th>NO2</th>\n",
       "      <th>OZONE</th>\n",
       "      <th>PM10</th>\n",
       "      <th>PM25</th>\n",
       "      <th>SO2</th>\n",
       "    </tr>\n",
       "  </thead>\n",
       "  <tbody>\n",
       "    <tr>\n",
       "      <th>1</th>\n",
       "      <td>2021-11-17 08:00:00</td>\n",
       "      <td>0.27704</td>\n",
       "      <td>0.00694</td>\n",
       "      <td>0.04578</td>\n",
       "      <td>41.44</td>\n",
       "      <td>17.14</td>\n",
       "      <td>0.00020</td>\n",
       "    </tr>\n",
       "    <tr>\n",
       "      <th>2</th>\n",
       "      <td>2021-11-17 09:00:00</td>\n",
       "      <td>0.28038</td>\n",
       "      <td>0.00677</td>\n",
       "      <td>0.04864</td>\n",
       "      <td>47.27</td>\n",
       "      <td>18.73</td>\n",
       "      <td>0.00020</td>\n",
       "    </tr>\n",
       "    <tr>\n",
       "      <th>3</th>\n",
       "      <td>2021-11-17 10:00:00</td>\n",
       "      <td>0.28038</td>\n",
       "      <td>0.00651</td>\n",
       "      <td>0.05508</td>\n",
       "      <td>53.97</td>\n",
       "      <td>21.69</td>\n",
       "      <td>0.00019</td>\n",
       "    </tr>\n",
       "    <tr>\n",
       "      <th>4</th>\n",
       "      <td>2021-11-17 11:00:00</td>\n",
       "      <td>0.28372</td>\n",
       "      <td>0.00600</td>\n",
       "      <td>0.06652</td>\n",
       "      <td>59.09</td>\n",
       "      <td>24.98</td>\n",
       "      <td>0.00018</td>\n",
       "    </tr>\n",
       "    <tr>\n",
       "      <th>5</th>\n",
       "      <td>2021-11-17 12:00:00</td>\n",
       "      <td>0.28038</td>\n",
       "      <td>0.00493</td>\n",
       "      <td>0.08655</td>\n",
       "      <td>60.37</td>\n",
       "      <td>28.22</td>\n",
       "      <td>0.00022</td>\n",
       "    </tr>\n",
       "  </tbody>\n",
       "</table>\n",
       "</div>"
      ],
      "text/plain": [
       "                 date       CO      NO2    OZONE   PM10   PM25      SO2\n",
       "1 2021-11-17 08:00:00  0.27704  0.00694  0.04578  41.44  17.14  0.00020\n",
       "2 2021-11-17 09:00:00  0.28038  0.00677  0.04864  47.27  18.73  0.00020\n",
       "3 2021-11-17 10:00:00  0.28038  0.00651  0.05508  53.97  21.69  0.00019\n",
       "4 2021-11-17 11:00:00  0.28372  0.00600  0.06652  59.09  24.98  0.00018\n",
       "5 2021-11-17 12:00:00  0.28038  0.00493  0.08655  60.37  28.22  0.00022"
      ]
     },
     "execution_count": 29,
     "metadata": {},
     "output_type": "execute_result"
    }
   ],
   "source": [
    "df_air.tail(5)"
   ]
  },
  {
   "cell_type": "code",
   "execution_count": 30,
   "metadata": {},
   "outputs": [
    {
     "data": {
      "text/html": [
       "<div>\n",
       "<style scoped>\n",
       "    .dataframe tbody tr th:only-of-type {\n",
       "        vertical-align: middle;\n",
       "    }\n",
       "\n",
       "    .dataframe tbody tr th {\n",
       "        vertical-align: top;\n",
       "    }\n",
       "\n",
       "    .dataframe thead th {\n",
       "        text-align: right;\n",
       "    }\n",
       "</style>\n",
       "<table border=\"1\" class=\"dataframe\">\n",
       "  <thead>\n",
       "    <tr style=\"text-align: right;\">\n",
       "      <th></th>\n",
       "      <th>date</th>\n",
       "      <th>Barometric_Pressure</th>\n",
       "      <th>Dewpoint</th>\n",
       "      <th>Relative_Humidity</th>\n",
       "      <th>Temperature</th>\n",
       "      <th>Wind_Speed</th>\n",
       "    </tr>\n",
       "  </thead>\n",
       "  <tbody>\n",
       "    <tr>\n",
       "      <th>15</th>\n",
       "      <td>2021-11-17 07:00:00</td>\n",
       "      <td>1014</td>\n",
       "      <td>26.58</td>\n",
       "      <td>28</td>\n",
       "      <td>58.89</td>\n",
       "      <td>1.555467</td>\n",
       "    </tr>\n",
       "    <tr>\n",
       "      <th>16</th>\n",
       "      <td>2021-11-17 08:00:00</td>\n",
       "      <td>1014</td>\n",
       "      <td>35.02</td>\n",
       "      <td>25</td>\n",
       "      <td>72.86</td>\n",
       "      <td>0.929804</td>\n",
       "    </tr>\n",
       "    <tr>\n",
       "      <th>17</th>\n",
       "      <td>2021-11-17 09:00:00</td>\n",
       "      <td>1015</td>\n",
       "      <td>55.99</td>\n",
       "      <td>55</td>\n",
       "      <td>73.11</td>\n",
       "      <td>0.721250</td>\n",
       "    </tr>\n",
       "    <tr>\n",
       "      <th>18</th>\n",
       "      <td>2021-11-17 10:00:00</td>\n",
       "      <td>1015</td>\n",
       "      <td>53.11</td>\n",
       "      <td>43</td>\n",
       "      <td>77.32</td>\n",
       "      <td>2.137681</td>\n",
       "    </tr>\n",
       "    <tr>\n",
       "      <th>19</th>\n",
       "      <td>2021-11-17 11:00:00</td>\n",
       "      <td>1015</td>\n",
       "      <td>57.18</td>\n",
       "      <td>46</td>\n",
       "      <td>79.79</td>\n",
       "      <td>2.407064</td>\n",
       "    </tr>\n",
       "  </tbody>\n",
       "</table>\n",
       "</div>"
      ],
      "text/plain": [
       "                  date  Barometric_Pressure  Dewpoint  Relative_Humidity  \\\n",
       "15 2021-11-17 07:00:00                 1014     26.58                 28   \n",
       "16 2021-11-17 08:00:00                 1014     35.02                 25   \n",
       "17 2021-11-17 09:00:00                 1015     55.99                 55   \n",
       "18 2021-11-17 10:00:00                 1015     53.11                 43   \n",
       "19 2021-11-17 11:00:00                 1015     57.18                 46   \n",
       "\n",
       "    Temperature  Wind_Speed  \n",
       "15        58.89    1.555467  \n",
       "16        72.86    0.929804  \n",
       "17        73.11    0.721250  \n",
       "18        77.32    2.137681  \n",
       "19        79.79    2.407064  "
      ]
     },
     "execution_count": 30,
     "metadata": {},
     "output_type": "execute_result"
    }
   ],
   "source": [
    "df.tail(5)"
   ]
  },
  {
   "cell_type": "code",
   "execution_count": 31,
   "metadata": {},
   "outputs": [],
   "source": [
    "new_df=pd.concat([df_air.drop(columns='date').tail(5).reset_index(),df.drop(columns='date').tail(5).reset_index()],axis=1)"
   ]
  },
  {
   "cell_type": "code",
   "execution_count": 32,
   "metadata": {},
   "outputs": [],
   "source": [
    "new_df.drop(columns='index',inplace=True)"
   ]
  },
  {
   "cell_type": "code",
   "execution_count": 33,
   "metadata": {},
   "outputs": [],
   "source": [
    "#Dataset to hold final results\n",
    "df_model_results = pd.DataFrame(columns = ['CO_Predicted','AQI_CO_Predicted',\n",
    "                                           'Ozone_Predicted','AQI_Ozone_Predicted',\n",
    "                                           'PM25_Predicted','AQI_PM25_Predicted',\n",
    "                                           'PM10_Predicted','AQI_PM10_Predicted',\n",
    "                                           'Final_AQI_Predicted'])"
   ]
  },
  {
   "cell_type": "code",
   "execution_count": 34,
   "metadata": {},
   "outputs": [],
   "source": [
    "#check units for air quality\n",
    "\n",
    "#load all the models\n",
    "\n",
    "#Now scale this data with saved scaler.\n",
    "#place check for Nan after scaling.\n",
    "\n",
    "#Change to supervised format\n",
    "#call all the models\n",
    "#Invert scaling for each\n",
    "#Save results in dataframe\n",
    "#Calculate individial AQI\n",
    "#Calculate final AQI and individual parameters "
   ]
  },
  {
   "cell_type": "code",
   "execution_count": 35,
   "metadata": {},
   "outputs": [],
   "source": [
    "model_CO = tf.keras.models.load_model('best_model_CO.h5')\n",
    "\n",
    "model_Ozone = tf.keras.models.load_model('best_model_Ozone.h5')\n",
    "\n",
    "Pkl_Filename = \"best_model_PM25.pkl\"  \n",
    "\n",
    "# Load the Model back from file\n",
    "with open(Pkl_Filename, 'rb') as file:  \n",
    "    model_PM25 = pickle.load(file)\n",
    "    \n",
    "Pkl_Filename = \"best_model_PM10.pkl\"  \n",
    "\n",
    "# Load the Model back from file\n",
    "with open(Pkl_Filename, 'rb') as file:  \n",
    "    model_PM10 = pickle.load(file)"
   ]
  },
  {
   "cell_type": "code",
   "execution_count": 36,
   "metadata": {},
   "outputs": [
    {
     "data": {
      "text/html": [
       "<div>\n",
       "<style scoped>\n",
       "    .dataframe tbody tr th:only-of-type {\n",
       "        vertical-align: middle;\n",
       "    }\n",
       "\n",
       "    .dataframe tbody tr th {\n",
       "        vertical-align: top;\n",
       "    }\n",
       "\n",
       "    .dataframe thead th {\n",
       "        text-align: right;\n",
       "    }\n",
       "</style>\n",
       "<table border=\"1\" class=\"dataframe\">\n",
       "  <thead>\n",
       "    <tr style=\"text-align: right;\">\n",
       "      <th></th>\n",
       "      <th>CO</th>\n",
       "      <th>NO2</th>\n",
       "      <th>OZONE</th>\n",
       "      <th>PM10</th>\n",
       "      <th>PM25</th>\n",
       "      <th>SO2</th>\n",
       "      <th>Barometric_Pressure</th>\n",
       "      <th>Dewpoint</th>\n",
       "      <th>Relative_Humidity</th>\n",
       "      <th>Temperature</th>\n",
       "      <th>Wind_Speed</th>\n",
       "    </tr>\n",
       "  </thead>\n",
       "  <tbody>\n",
       "    <tr>\n",
       "      <th>0</th>\n",
       "      <td>-1.581139</td>\n",
       "      <td>0.981390</td>\n",
       "      <td>-0.992664</td>\n",
       "      <td>-1.532103</td>\n",
       "      <td>-1.238669</td>\n",
       "      <td>0.150756</td>\n",
       "      <td>-1.224745</td>\n",
       "      <td>-1.528616</td>\n",
       "      <td>-1.009839</td>\n",
       "      <td>-1.865314</td>\n",
       "      <td>0.007948</td>\n",
       "    </tr>\n",
       "    <tr>\n",
       "      <th>1</th>\n",
       "      <td>0.000000</td>\n",
       "      <td>0.746409</td>\n",
       "      <td>-0.799979</td>\n",
       "      <td>-0.719202</td>\n",
       "      <td>-0.845715</td>\n",
       "      <td>0.150756</td>\n",
       "      <td>-1.224745</td>\n",
       "      <td>-0.849446</td>\n",
       "      <td>-1.275586</td>\n",
       "      <td>0.064369</td>\n",
       "      <td>-0.945862</td>\n",
       "    </tr>\n",
       "    <tr>\n",
       "      <th>2</th>\n",
       "      <td>0.000000</td>\n",
       "      <td>0.387027</td>\n",
       "      <td>-0.366101</td>\n",
       "      <td>0.215008</td>\n",
       "      <td>-0.114179</td>\n",
       "      <td>-0.603023</td>\n",
       "      <td>0.816497</td>\n",
       "      <td>0.838019</td>\n",
       "      <td>1.381884</td>\n",
       "      <td>0.098901</td>\n",
       "      <td>-1.263799</td>\n",
       "    </tr>\n",
       "    <tr>\n",
       "      <th>3</th>\n",
       "      <td>1.581139</td>\n",
       "      <td>-0.317915</td>\n",
       "      <td>0.404638</td>\n",
       "      <td>0.928911</td>\n",
       "      <td>0.698914</td>\n",
       "      <td>-1.356801</td>\n",
       "      <td>0.816497</td>\n",
       "      <td>0.606264</td>\n",
       "      <td>0.318896</td>\n",
       "      <td>0.680431</td>\n",
       "      <td>0.895522</td>\n",
       "    </tr>\n",
       "    <tr>\n",
       "      <th>4</th>\n",
       "      <td>0.000000</td>\n",
       "      <td>-1.796911</td>\n",
       "      <td>1.754106</td>\n",
       "      <td>1.107387</td>\n",
       "      <td>1.499649</td>\n",
       "      <td>1.658312</td>\n",
       "      <td>0.816497</td>\n",
       "      <td>0.933779</td>\n",
       "      <td>0.584643</td>\n",
       "      <td>1.021613</td>\n",
       "      <td>1.306191</td>\n",
       "    </tr>\n",
       "  </tbody>\n",
       "</table>\n",
       "</div>"
      ],
      "text/plain": [
       "         CO       NO2     OZONE      PM10      PM25       SO2  \\\n",
       "0 -1.581139  0.981390 -0.992664 -1.532103 -1.238669  0.150756   \n",
       "1  0.000000  0.746409 -0.799979 -0.719202 -0.845715  0.150756   \n",
       "2  0.000000  0.387027 -0.366101  0.215008 -0.114179 -0.603023   \n",
       "3  1.581139 -0.317915  0.404638  0.928911  0.698914 -1.356801   \n",
       "4  0.000000 -1.796911  1.754106  1.107387  1.499649  1.658312   \n",
       "\n",
       "   Barometric_Pressure  Dewpoint  Relative_Humidity  Temperature  Wind_Speed  \n",
       "0            -1.224745 -1.528616          -1.009839    -1.865314    0.007948  \n",
       "1            -1.224745 -0.849446          -1.275586     0.064369   -0.945862  \n",
       "2             0.816497  0.838019           1.381884     0.098901   -1.263799  \n",
       "3             0.816497  0.606264           0.318896     0.680431    0.895522  \n",
       "4             0.816497  0.933779           0.584643     1.021613    1.306191  "
      ]
     },
     "execution_count": 36,
     "metadata": {},
     "output_type": "execute_result"
    }
   ],
   "source": [
    "#Perform Robust scaling, change it with standard scaler , if we dont get good results\n",
    "columns_transform=list(new_df.columns) #numerical columns to be transformed.\n",
    "\n",
    "values=new_df.values\n",
    "\n",
    "scaled=scaler.fit_transform(values)\n",
    "\n",
    "df_transformed=pd.DataFrame(scaled,columns=new_df.columns)\n",
    "\n",
    "df_transformed"
   ]
  },
  {
   "cell_type": "code",
   "execution_count": 37,
   "metadata": {},
   "outputs": [],
   "source": [
    "#Add Dummy Row\n",
    "\n",
    "series_obj = pd.Series( [0,0,0,0,0,0,0,0,0,0,0], \n",
    "                        index=df_transformed.columns )\n",
    "\n",
    "\n",
    "# Add a series as a row to the dataframe  \n",
    "mod_df = df_transformed.append(  series_obj,\n",
    "                        ignore_index=True)"
   ]
  },
  {
   "cell_type": "code",
   "execution_count": 38,
   "metadata": {},
   "outputs": [
    {
     "name": "stdout",
     "output_type": "stream",
     "text": [
      "(1, 54)\n"
     ]
    }
   ],
   "source": [
    "#CO Prediction\n",
    "# specify the number of lag hours\n",
    "n_hours = 5\n",
    "n_features = 9 #number of features in dataframe to be used\n",
    "\n",
    "# frame as supervised learning with previous 5 hours data to predict upcoming hour data.\n",
    "scaled_CO=mod_df.iloc[:,[0,1,2,3,5,6,8,9,10]].values\n",
    "reframed_CO = series_to_supervised(scaled_CO, n_hours, 1)\n",
    "print(reframed_CO.shape)\n",
    "\n",
    "CO_X=data_split(reframed_CO,n_hours,n_features,'yes')\n",
    "\n",
    "yhat=model_CO.predict(CO_X)\n",
    "yhat = np.repeat(yhat, 11, axis=-1)\n",
    "inv_yhat = scaler.inverse_transform(yhat)[:,0]\n",
    "\n",
    "df_model_results['CO_Predicted']=inv_yhat\n",
    "\n",
    "df_model_results['AQI_CO_Predicted']=df_model_results.CO_Predicted.apply(AQI_cal,pollutant='CO')"
   ]
  },
  {
   "cell_type": "code",
   "execution_count": 39,
   "metadata": {},
   "outputs": [
    {
     "name": "stdout",
     "output_type": "stream",
     "text": [
      "(1, 36)\n"
     ]
    }
   ],
   "source": [
    "#Ozone Prediction\n",
    "# specify the number of lag hours\n",
    "n_hours = 5\n",
    "n_features = 6 #number of features in dataframe to be used\n",
    "\n",
    "# frame as supervised learning with previous 5 hours data to predict upcoming hour data.\n",
    "scaled=mod_df.iloc[:,[2,0,1,8,9,10]].values\n",
    "reframed = series_to_supervised(scaled, n_hours, 1)\n",
    "print(reframed.shape)\n",
    "\n",
    "Ozone_X=data_split(reframed,n_hours,n_features,'yes')\n",
    "\n",
    "yhat=model_Ozone.predict(Ozone_X)\n",
    "yhat = np.repeat(yhat, 11, axis=-1)\n",
    "inv_yhat = scaler.inverse_transform(yhat)[:,2]\n",
    "\n",
    "df_model_results['Ozone_Predicted']=inv_yhat\n",
    "\n",
    "df_model_results['AQI_Ozone_Predicted']=df_model_results.Ozone_Predicted.apply(AQI_cal,pollutant='OZONE')"
   ]
  },
  {
   "cell_type": "code",
   "execution_count": 40,
   "metadata": {},
   "outputs": [
    {
     "name": "stdout",
     "output_type": "stream",
     "text": [
      "(1, 42)\n"
     ]
    }
   ],
   "source": [
    "#PM2.5 Prediction\n",
    "# specify the number of lag hours\n",
    "n_hours = 5\n",
    "n_features = 7 #number of features in dataframe to be used\n",
    "\n",
    "# frame as supervised learning with previous 5 hours data to predict upcoming hour data.\n",
    "scaled=mod_df.iloc[:,[4,3,6,7,8,9,10]].values\n",
    "reframed = series_to_supervised(scaled, n_hours, 1)\n",
    "print(reframed.shape)\n",
    "\n",
    "PM25_X=data_split(reframed,n_hours,n_features,'no')\n",
    "\n",
    "yhat=model_PM25.predict(PM25_X)\n",
    "yhat = np.repeat(yhat.reshape(-1,1), 11, axis=-1)\n",
    "inv_yhat = scaler.inverse_transform(yhat)[:,4]\n",
    "\n",
    "df_model_results['PM25_Predicted']=inv_yhat\n",
    "\n",
    "df_model_results['AQI_PM25_Predicted']=df_model_results.PM25_Predicted.apply(AQI_cal,pollutant='PM25')"
   ]
  },
  {
   "cell_type": "code",
   "execution_count": 41,
   "metadata": {},
   "outputs": [
    {
     "name": "stdout",
     "output_type": "stream",
     "text": [
      "(1, 42)\n"
     ]
    }
   ],
   "source": [
    "#PM10 Prediction\n",
    "# specify the number of lag hours\n",
    "n_hours = 5\n",
    "n_features = 7 #number of features in dataframe to be used\n",
    "\n",
    "# frame as supervised learning with previous 5 hours data to predict upcoming hour data.\n",
    "scaled=mod_df.iloc[:,[3,0,1,2,4,5,10]].values\n",
    "reframed = series_to_supervised(scaled, n_hours, 1)\n",
    "print(reframed.shape)\n",
    "\n",
    "PM10_X=data_split(reframed,n_hours,n_features,'no')\n",
    "\n",
    "yhat=model_PM10.predict(PM10_X)\n",
    "yhat = np.repeat(yhat.reshape(-1,1), 11, axis=-1)\n",
    "inv_yhat = scaler.inverse_transform(yhat)[:,3]\n",
    "\n",
    "df_model_results['PM10_Predicted']=inv_yhat\n",
    "\n",
    "df_model_results['AQI_PM10_Predicted']=df_model_results.PM10_Predicted.apply(AQI_cal,pollutant='PM10')"
   ]
  },
  {
   "cell_type": "code",
   "execution_count": 42,
   "metadata": {},
   "outputs": [],
   "source": [
    "df_model_results['Final_AQI_Predicted'] = (df_model_results[[\"AQI_CO_Predicted\", \"AQI_Ozone_Predicted\",\n",
    "                                                                 \"AQI_PM25_Predicted\", \"AQI_PM10_Predicted\"]].max(axis = 1))\n",
    "\n",
    "df_model_results['Predicted_AQI_LEVEL'] = df_model_results[\"Final_AQI_Predicted\"].apply(AQI_level)"
   ]
  },
  {
   "cell_type": "code",
   "execution_count": 43,
   "metadata": {},
   "outputs": [
    {
     "data": {
      "text/html": [
       "<div>\n",
       "<style scoped>\n",
       "    .dataframe tbody tr th:only-of-type {\n",
       "        vertical-align: middle;\n",
       "    }\n",
       "\n",
       "    .dataframe tbody tr th {\n",
       "        vertical-align: top;\n",
       "    }\n",
       "\n",
       "    .dataframe thead th {\n",
       "        text-align: right;\n",
       "    }\n",
       "</style>\n",
       "<table border=\"1\" class=\"dataframe\">\n",
       "  <thead>\n",
       "    <tr style=\"text-align: right;\">\n",
       "      <th></th>\n",
       "      <th>CO_Predicted</th>\n",
       "      <th>AQI_CO_Predicted</th>\n",
       "      <th>Ozone_Predicted</th>\n",
       "      <th>AQI_Ozone_Predicted</th>\n",
       "      <th>PM25_Predicted</th>\n",
       "      <th>AQI_PM25_Predicted</th>\n",
       "      <th>PM10_Predicted</th>\n",
       "      <th>AQI_PM10_Predicted</th>\n",
       "      <th>Final_AQI_Predicted</th>\n",
       "      <th>Predicted_AQI_LEVEL</th>\n",
       "    </tr>\n",
       "  </thead>\n",
       "  <tbody>\n",
       "    <tr>\n",
       "      <th>0</th>\n",
       "      <td>0.279762</td>\n",
       "      <td>2</td>\n",
       "      <td>0.082461</td>\n",
       "      <td>116</td>\n",
       "      <td>26.261755</td>\n",
       "      <td>81</td>\n",
       "      <td>59.156654</td>\n",
       "      <td>53</td>\n",
       "      <td>116.0</td>\n",
       "      <td>UnHealthy for Sensitive Groups</td>\n",
       "    </tr>\n",
       "  </tbody>\n",
       "</table>\n",
       "</div>"
      ],
      "text/plain": [
       "   CO_Predicted AQI_CO_Predicted  Ozone_Predicted AQI_Ozone_Predicted  \\\n",
       "0      0.279762                2         0.082461                 116   \n",
       "\n",
       "   PM25_Predicted AQI_PM25_Predicted  PM10_Predicted AQI_PM10_Predicted  \\\n",
       "0       26.261755                 81       59.156654                 53   \n",
       "\n",
       "   Final_AQI_Predicted             Predicted_AQI_LEVEL  \n",
       "0                116.0  UnHealthy for Sensitive Groups  "
      ]
     },
     "execution_count": 43,
     "metadata": {},
     "output_type": "execute_result"
    }
   ],
   "source": [
    "df_model_results"
   ]
  },
  {
   "cell_type": "code",
   "execution_count": 44,
   "metadata": {},
   "outputs": [],
   "source": [
    "CO=((round(df_model_results.CO_Predicted,2)).values)[0]\n",
    "Ozone=((round(df_model_results.Ozone_Predicted,4)).values)[0]\n",
    "PM25=((round(df_model_results.PM25_Predicted,2)).values)[0]\n",
    "PM10=((round(df_model_results.PM10_Predicted,2)).values)[0]\n",
    "AQI_level=df_model_results.Predicted_AQI_LEVEL.values[0]\n",
    "AQI_value=df_model_results.Final_AQI_Predicted.values[0]"
   ]
  },
  {
   "cell_type": "code",
   "execution_count": 45,
   "metadata": {},
   "outputs": [
    {
     "name": "stdout",
     "output_type": "stream",
     "text": [
      "0.28\n"
     ]
    }
   ],
   "source": [
    "print(CO)"
   ]
  },
  {
   "cell_type": "code",
   "execution_count": null,
   "metadata": {},
   "outputs": [],
   "source": []
  }
 ],
 "metadata": {
  "kernelspec": {
   "display_name": "Python 3",
   "language": "python",
   "name": "python3"
  },
  "language_info": {
   "codemirror_mode": {
    "name": "ipython",
    "version": 3
   },
   "file_extension": ".py",
   "mimetype": "text/x-python",
   "name": "python",
   "nbconvert_exporter": "python",
   "pygments_lexer": "ipython3",
   "version": "3.8.8"
  }
 },
 "nbformat": 4,
 "nbformat_minor": 4
}
